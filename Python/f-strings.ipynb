{
 "cells": [
  {
   "cell_type": "markdown",
   "metadata": {},
   "source": [
    "## 書式化済み文字列リテラル(f-strings)\n",
    "- Python3.6.0 以降で利用可能な文法機能の1つ\n",
    "- 文字列クラス（string）にある`str.format()`の代替となる\n",
    "- 他にもフォーマッティングや変数の埋め込みの手法に `%-formatting` や `string.Template` がある\n",
    "- 文字列内に変数や書式、実行式を埋め込める\n",
    "- 接頭辞`f`を付けた文字列 `f''` でf-stringsを宣言、その中でプレースホルダに`{}`を利用\n",
    "\n",
    "### 基本的な使い方"
   ]
  },
  {
   "cell_type": "code",
   "execution_count": 1,
   "metadata": {},
   "outputs": [
    {
     "data": {
      "text/plain": [
       "'string value: ohayo'"
      ]
     },
     "execution_count": 1,
     "metadata": {},
     "output_type": "execute_result"
    }
   ],
   "source": [
    "# basic\n",
    "\n",
    "a = 'ohayo'\n",
    "f'string value: {a}'"
   ]
  },
  {
   "cell_type": "code",
   "execution_count": 2,
   "metadata": {},
   "outputs": [
    {
     "data": {
      "text/plain": [
       "'list item: bbb'"
      ]
     },
     "execution_count": 2,
     "metadata": {},
     "output_type": "execute_result"
    }
   ],
   "source": [
    "# list　{}内では実行式として評価される。\n",
    "\n",
    "some_list = ['aaa','bbb','ccc']\n",
    "f'list item: {some_list[1]}'"
   ]
  },
  {
   "cell_type": "code",
   "execution_count": 5,
   "metadata": {},
   "outputs": [
    {
     "data": {
      "text/plain": [
       "'dic item: baz'"
      ]
     },
     "execution_count": 5,
     "metadata": {},
     "output_type": "execute_result"
    }
   ],
   "source": [
    "# dictionary　{}内では実行式として評価される。\n",
    "\n",
    "some_dict = {'aaa':'hoo','bbb':'bar','ccc':'baz'}\n",
    "f'dic item: {some_dict[\"ccc\"]}'"
   ]
  },
  {
   "cell_type": "code",
   "execution_count": 6,
   "metadata": {},
   "outputs": [
    {
     "data": {
      "text/plain": [
       "'add value 20'"
      ]
     },
     "execution_count": 6,
     "metadata": {},
     "output_type": "execute_result"
    }
   ],
   "source": [
    "# operation　{}内では実行式として評価される。\n",
    "\n",
    "some_value = 10\n",
    "f'add value {some_value + 10}'"
   ]
  },
  {
   "cell_type": "code",
   "execution_count": 9,
   "metadata": {},
   "outputs": [
    {
     "data": {
      "text/plain": [
       "'check dictionary length :4'"
      ]
     },
     "execution_count": 9,
     "metadata": {},
     "output_type": "execute_result"
    }
   ],
   "source": [
    "# operation 2　{}内では実行式として評価される。\n",
    "\n",
    "f'check dictionary length :{len(some_dict)+1}'"
   ]
  },
  {
   "cell_type": "code",
   "execution_count": 10,
   "metadata": {},
   "outputs": [
    {
     "data": {
      "text/plain": [
       "'multi values :20'"
      ]
     },
     "execution_count": 10,
     "metadata": {},
     "output_type": "execute_result"
    }
   ],
   "source": [
    "# function {}内で関数が呼び出せる\n",
    "\n",
    "def multi(a,b):\n",
    "    return a + b\n",
    "\n",
    "x = 10\n",
    "y = 10\n",
    "\n",
    "f'multi values :{multi(x,y)}'"
   ]
  },
  {
   "cell_type": "markdown",
   "metadata": {},
   "source": [
    "### 位置揃えとパディング"
   ]
  },
  {
   "cell_type": "code",
   "execution_count": 2,
   "metadata": {},
   "outputs": [
    {
     "data": {
      "text/plain": "'0000001192'"
     },
     "execution_count": 2,
     "metadata": {},
     "output_type": "execute_result"
    }
   ],
   "source": [
    "s = 1192\n",
    "\n",
    "# 0パディング\n",
    "f'{s:0>10}'"
   ]
  },
  {
   "cell_type": "code",
   "execution_count": 3,
   "metadata": {},
   "outputs": [
    {
     "data": {
      "text/plain": "'      1192'"
     },
     "execution_count": 3,
     "metadata": {},
     "output_type": "execute_result"
    }
   ],
   "source": [
    "# スペースパディング\n",
    "f'{s:>10}'"
   ]
  },
  {
   "cell_type": "code",
   "execution_count": 4,
   "metadata": {},
   "outputs": [
    {
     "data": {
      "text/plain": "'   1192   '"
     },
     "execution_count": 4,
     "metadata": {},
     "output_type": "execute_result"
    }
   ],
   "source": [
    "# センタリング\n",
    "f'{s:^10}'"
   ]
  },
  {
   "cell_type": "code",
   "execution_count": 5,
   "metadata": {},
   "outputs": [
    {
     "data": {
      "text/plain": "'      1192'"
     },
     "execution_count": 5,
     "metadata": {},
     "output_type": "execute_result"
    }
   ],
   "source": [
    "# 右寄せ\n",
    "f'{s:>10}'"
   ]
  },
  {
   "cell_type": "code",
   "execution_count": null,
   "metadata": {},
   "outputs": [],
   "source": []
  }
 ],
 "metadata": {
  "kernelspec": {
   "display_name": "Python 3",
   "language": "python",
   "name": "python3"
  },
  "language_info": {
   "codemirror_mode": {
    "name": "ipython",
    "version": 3
   },
   "file_extension": ".py",
   "mimetype": "text/x-python",
   "name": "python",
   "nbconvert_exporter": "python",
   "pygments_lexer": "ipython3",
   "version": "3.7.5"
  }
 },
 "nbformat": 4,
 "nbformat_minor": 2
}