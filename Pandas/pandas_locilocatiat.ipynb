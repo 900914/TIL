{
 "nbformat": 4,
 "nbformat_minor": 2,
 "metadata": {
  "language_info": {
   "name": "python",
   "codemirror_mode": {
    "name": "ipython",
    "version": 3
   },
   "version": "3.7.5"
  },
  "orig_nbformat": 2,
  "file_extension": ".py",
  "mimetype": "text/x-python",
  "name": "python",
  "npconvert_exporter": "python",
  "pygments_lexer": "ipython3",
  "version": 3
 },
 "cells": [
  {
   "cell_type": "code",
   "execution_count": 18,
   "metadata": {},
   "outputs": [],
   "source": [
    "import pandas as pd\n",
    "df = pd.read_csv('https://raw.githubusercontent.com/nkmk/python-snippets/df339a7fdbc65d1a7a310103a0f4a795dc3321a5/notebook/data/src/sample_pandas_normal.csv',index_col=0)"
   ]
  },
  {
   "cell_type": "code",
   "execution_count": 10,
   "metadata": {},
   "outputs": [
    {
     "name": "stdout",
     "output_type": "stream",
     "text": "age state  point\nname                     \nAlice     24    NY     64\nBob       42    CA     92\nCharlie   18    CA     70\nDave      68    TX     70\nEllen     24    CA     88\nFrank     30    NY     57\n"
    }
   ],
   "source": [
    "print(df)"
   ]
  },
  {
   "cell_type": "code",
   "execution_count": 11,
   "metadata": {},
   "outputs": [
    {
     "name": "stdout",
     "output_type": "stream",
     "text": "['Alice' 'Bob' 'Charlie' 'Dave' 'Ellen' 'Frank']\n['age' 'state' 'point']\n"
    }
   ],
   "source": [
    "print(df.index.values)\n",
    "print(df.columns.values)"
   ]
  },
  {
   "cell_type": "code",
   "execution_count": 19,
   "metadata": {},
   "outputs": [
    {
     "name": "stdout",
     "output_type": "stream",
     "text": "42\n70\n999\n"
    }
   ],
   "source": [
    "print(df.at['Bob','age'])\n",
    "print(df.at['Dave','point'])\n",
    "df.at['Bob','age']=999\n",
    "print(df.at['Bob','age'])"
   ]
  },
  {
   "cell_type": "code",
   "execution_count": 23,
   "metadata": {},
   "outputs": [
    {
     "name": "stdout",
     "output_type": "stream",
     "text": "999\n57\n42\n"
    }
   ],
   "source": [
    "print(df.iat[1,0])\n",
    "print(df.iat[-1,-1])\n",
    "df.iat[1,0] = 42\n",
    "print(df.iat[1,0])"
   ]
  },
  {
   "cell_type": "code",
   "execution_count": 24,
   "metadata": {},
   "outputs": [
    {
     "name": "stdout",
     "output_type": "stream",
     "text": "42\n57\n"
    }
   ],
   "source": [
    "print(df.loc['Bob','age'])\n",
    "print(df.iloc[-1,-1])"
   ]
  },
  {
   "cell_type": "code",
   "execution_count": 26,
   "metadata": {},
   "outputs": [
    {
     "name": "stdout",
     "output_type": "stream",
     "text": "name\nAlice      24\nBob        42\nCharlie    18\nDave       68\nName: age, dtype: int64\n"
    }
   ],
   "source": [
    "print(df.loc['Alice':'Dave','age'])"
   ]
  },
  {
   "cell_type": "code",
   "execution_count": 27,
   "metadata": {},
   "outputs": [
    {
     "name": "stdout",
     "output_type": "stream",
     "text": "age      30\nstate    NY\nName: Frank, dtype: object\n"
    }
   ],
   "source": [
    "print(df.loc['Frank','age':'state'])"
   ]
  },
  {
   "cell_type": "code",
   "execution_count": 28,
   "metadata": {},
   "outputs": [
    {
     "name": "stdout",
     "output_type": "stream",
     "text": "age  point\nname               \nAlice     24     64\nBob       42     92\nCharlie   18     70\n"
    }
   ],
   "source": [
    "print(df.iloc[:3,[0,2]])"
   ]
  },
  {
   "cell_type": "code",
   "execution_count": 29,
   "metadata": {},
   "outputs": [
    {
     "name": "stdout",
     "output_type": "stream",
     "text": "name\nAlice      24\nCharlie    18\nEllen      24\nName: age, dtype: int64\n"
    }
   ],
   "source": [
    "print(df.iloc[::2,0])"
   ]
  },
  {
   "cell_type": "code",
   "execution_count": 30,
   "metadata": {},
   "outputs": [
    {
     "name": "stdout",
     "output_type": "stream",
     "text": "name\nAlice      24\nBob        42\nCharlie    18\nDave       68\nEllen      24\nFrank      30\nName: age, dtype: int64\n"
    }
   ],
   "source": [
    "print(df.loc[:,'age'])"
   ]
  },
  {
   "cell_type": "code",
   "execution_count": 32,
   "metadata": {},
   "outputs": [
    {
     "name": "stdout",
     "output_type": "stream",
     "text": "age state  point\nname                   \nBob     42    CA     92\nEllen   24    CA     88\n"
    }
   ],
   "source": [
    "print(df.iloc[[1,4]])"
   ]
  },
  {
   "cell_type": "code",
   "execution_count": null,
   "metadata": {},
   "outputs": [],
   "source": []
  },
  {
   "cell_type": "code",
   "execution_count": null,
   "metadata": {},
   "outputs": [],
   "source": []
  },
  {
   "cell_type": "code",
   "execution_count": null,
   "metadata": {},
   "outputs": [],
   "source": []
  },
  {
   "cell_type": "code",
   "execution_count": null,
   "metadata": {},
   "outputs": [],
   "source": []
  },
  {
   "cell_type": "code",
   "execution_count": null,
   "metadata": {},
   "outputs": [],
   "source": []
  },
  {
   "cell_type": "code",
   "execution_count": null,
   "metadata": {},
   "outputs": [],
   "source": []
  }
 ]
}