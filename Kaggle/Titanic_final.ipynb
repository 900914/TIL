{
 "cells": [
  {
   "cell_type": "code",
   "execution_count": 1,
   "metadata": {},
   "outputs": [],
   "source": [
    "############ Machine Learning ###############\n",
    "import pandas as pd\n",
    "import numpy as np\n",
    "\n",
    "from sklearn.model_selection import train_test_split\n",
    "from sklearn.preprocessing import LabelEncoder\n",
    "import sklearn.metrics\n",
    "from sklearn.model_selection import KFold, StratifiedKFold\n",
    "from sklearn.metrics import classification_report\n",
    "\n",
    "import optuna\n",
    "import lightgbm as lgb\n",
    "import category_encoders as ce\n",
    "\n",
    "############# Visualization ################\n",
    "import seaborn as sns\n",
    "import matplotlib.pyplot as plt\n",
    "from matplotlib import rcParams\n",
    "rcParams['font.family'] = 'sans-serif'\n",
    "rcParams['font.sans-serif'] = ['Noto Sans CJK JP','Hiragino Maru Gothic Pro', 'Yu Gothic', 'Meirio', 'Takao', ]\n",
    "%matplotlib inline\n",
    "\n",
    "########## For Google Colab ################\n",
    "# from google.colab import drive\n",
    "# drive.mount('/content/drive')\n",
    "# train = pd.read_csv('/content/drive/My Drive/Titanic/train.csv')\n",
    "# test = pd.read_csv('/content/drive/My Drive/Titanic/test.csv')\n",
    "\n",
    "############## For Local ###################\n",
    "train_raw = pd.read_csv('./data/raw/train.csv')\n",
    "test_raw = pd.read_csv('./data/raw/test.csv')\n",
    "gender_submission = pd.read_csv('./data/raw/gender_submission.csv')"
   ]
  },
  {
   "cell_type": "code",
   "execution_count": 2,
   "metadata": {},
   "outputs": [],
   "source": [
    "data = pd.concat([train_raw,test_raw],sort=False)\n",
    "\n",
    "data['honorific'] = data['Name'].map(lambda x : x.split(', ')[1].split('.')[0])\n",
    "data['honorific'] = data['honorific'].replace(\\\n",
    "['Lady', 'Countess','Capt', 'Col','Don', 'Dr', 'Major', 'Rev', 'Sir', 'Jonkheer', 'Dona','the Countess'], 'Rare')\n",
    "data['honorific'] = data['honorific'].replace({'Mme':'Mrs','Ms':'Miss','Mlle':'Miss'})\n",
    "data['Fare'].fillna(np.mean(data['Fare']),inplace=True)\n",
    "#data['Farebin'] = pd.qcut(data['Fare'],4)\n",
    "for i in range(1,4):\n",
    "    data.loc[(data['Pclass']==i)&(data['Age'].isnull()),'Age'] = data[data['Pclass']==i]['Age'].mean()\n",
    "#data['Agebin'] = pd.cut(data['Age'].astype(int),5)\n",
    "data['FamilySize'] = data['Parch'] + data['SibSp'] + 1 # 本人の＋１\n",
    "data['FamilySize_bin'] = 4\n",
    "data.loc[data['FamilySize']==1,'FamilySize_bin'] = 1\n",
    "data.loc[(data['FamilySize']>=2)&(data['FamilySize']<=5),'FamilySize_bin'] = 2\n",
    "data.loc[(data['FamilySize']>=6)&(data['FamilySize']<=8),'FamilySize_bin'] = 3\n",
    "data['Cabin_initial'] = data['Cabin'].map(lambda x:str(x)[0])\n",
    "data['Survived'].groupby(data['Cabin_initial']).mean()\n",
    "data['Cabin_initial'] = data['Cabin_initial'].replace('T','n')\n",
    "data['Sex'].replace(['male','female'],[0,1],inplace=True)\n",
    "data['Embarked'].fillna('S',inplace=True)\n",
    "data['Embarked']=data['Embarked'].map({'S':0,'C':1,'Q':2}).astype(int)\n",
    "delete_columns = ['Name', 'PassengerId', 'SibSp', 'Parch', 'Ticket','Cabin','FamilySize']\n",
    "data.drop(delete_columns, axis=1, inplace=True)\n",
    "\n",
    "# ラベルエンコーディング\n",
    "label_category = ['honorific','FamilySize_bin','Cabin_initial','Pclass']\n",
    "ce_oe = ce.OrdinalEncoder(cols=label_category,handle_unknown='impute')\n",
    "data = ce_oe.fit_transform(data)\n",
    "\n",
    "# １からではなく、０から始まりに修正\n",
    "for i in label_category:\n",
    "    data[i] = data[i] -1 \n",
    "#     data[i] = data[i].astype('category')\n",
    "\n",
    "# 元データに戻す\n",
    "train_df, test_df = data[:len(train_raw)], data[len(train_raw):]\n",
    "X_train_df, y_train_df = train_df.drop('Survived',axis=1), train_df['Survived']\n",
    "X_test_df = test_df.drop('Survived',axis=1)"
   ]
  },
  {
   "cell_type": "code",
   "execution_count": 145,
   "metadata": {},
   "outputs": [
    {
     "name": "stdout",
     "output_type": "stream",
     "text": [
      "Training until validation scores don't improve for 10 rounds\n",
      "[10]\ttraining's binary_logloss: 0.498259\tvalid_1's binary_logloss: 0.51762\n",
      "[20]\ttraining's binary_logloss: 0.420804\tvalid_1's binary_logloss: 0.453194\n",
      "[30]\ttraining's binary_logloss: 0.375385\tvalid_1's binary_logloss: 0.426672\n",
      "[40]\ttraining's binary_logloss: 0.34508\tvalid_1's binary_logloss: 0.416432\n",
      "[50]\ttraining's binary_logloss: 0.321939\tvalid_1's binary_logloss: 0.414835\n",
      "[60]\ttraining's binary_logloss: 0.300053\tvalid_1's binary_logloss: 0.408474\n",
      "[70]\ttraining's binary_logloss: 0.281982\tvalid_1's binary_logloss: 0.404967\n",
      "[80]\ttraining's binary_logloss: 0.266462\tvalid_1's binary_logloss: 0.411209\n",
      "Early stopping, best iteration is:\n",
      "[70]\ttraining's binary_logloss: 0.281982\tvalid_1's binary_logloss: 0.404967\n"
     ]
    },
    {
     "name": "stderr",
     "output_type": "stream",
     "text": [
      "\u001b[32m[I 2020-01-17 15:24:44,611]\u001b[0m Finished trial#0 resulted in value: 0.4049668082148141. Current best value is 0.4049668082148141 with parameters: {'max_bin': 427, 'num_leaves': 79}.\u001b[0m\n"
     ]
    },
    {
     "name": "stdout",
     "output_type": "stream",
     "text": [
      "Training until validation scores don't improve for 10 rounds\n",
      "[10]\ttraining's binary_logloss: 0.498259\tvalid_1's binary_logloss: 0.51762\n",
      "[20]\ttraining's binary_logloss: 0.420804\tvalid_1's binary_logloss: 0.453194\n",
      "[30]\ttraining's binary_logloss: 0.375385\tvalid_1's binary_logloss: 0.426672\n",
      "[40]\ttraining's binary_logloss: 0.34508\tvalid_1's binary_logloss: 0.416432\n",
      "[50]\ttraining's binary_logloss: 0.321939\tvalid_1's binary_logloss: 0.414835\n",
      "[60]\ttraining's binary_logloss: 0.300053\tvalid_1's binary_logloss: 0.408474\n",
      "[70]\ttraining's binary_logloss: 0.281982\tvalid_1's binary_logloss: 0.404967\n",
      "[80]\ttraining's binary_logloss: 0.266462\tvalid_1's binary_logloss: 0.411209\n",
      "Early stopping, best iteration is:\n",
      "[70]\ttraining's binary_logloss: 0.281982\tvalid_1's binary_logloss: 0.404967\n"
     ]
    },
    {
     "name": "stderr",
     "output_type": "stream",
     "text": [
      "\u001b[32m[I 2020-01-17 15:24:44,834]\u001b[0m Finished trial#1 resulted in value: 0.4049668082148141. Current best value is 0.4049668082148141 with parameters: {'max_bin': 427, 'num_leaves': 79}.\u001b[0m\n",
      "\u001b[32m[I 2020-01-17 15:24:45,044]\u001b[0m Finished trial#2 resulted in value: 0.4049668082148141. Current best value is 0.4049668082148141 with parameters: {'max_bin': 427, 'num_leaves': 79}.\u001b[0m\n"
     ]
    },
    {
     "name": "stdout",
     "output_type": "stream",
     "text": [
      "Training until validation scores don't improve for 10 rounds\n",
      "[10]\ttraining's binary_logloss: 0.498259\tvalid_1's binary_logloss: 0.51762\n",
      "[20]\ttraining's binary_logloss: 0.420804\tvalid_1's binary_logloss: 0.453194\n",
      "[30]\ttraining's binary_logloss: 0.375385\tvalid_1's binary_logloss: 0.426672\n",
      "[40]\ttraining's binary_logloss: 0.34508\tvalid_1's binary_logloss: 0.416432\n",
      "[50]\ttraining's binary_logloss: 0.321939\tvalid_1's binary_logloss: 0.414835\n",
      "[60]\ttraining's binary_logloss: 0.300053\tvalid_1's binary_logloss: 0.408474\n",
      "[70]\ttraining's binary_logloss: 0.281982\tvalid_1's binary_logloss: 0.404967\n",
      "[80]\ttraining's binary_logloss: 0.266462\tvalid_1's binary_logloss: 0.411209\n",
      "Early stopping, best iteration is:\n",
      "[70]\ttraining's binary_logloss: 0.281982\tvalid_1's binary_logloss: 0.404967\n"
     ]
    },
    {
     "name": "stderr",
     "output_type": "stream",
     "text": [
      "\u001b[32m[I 2020-01-17 15:24:45,243]\u001b[0m Finished trial#3 resulted in value: 0.4049668082148141. Current best value is 0.4049668082148141 with parameters: {'max_bin': 427, 'num_leaves': 79}.\u001b[0m\n"
     ]
    },
    {
     "name": "stdout",
     "output_type": "stream",
     "text": [
      "Training until validation scores don't improve for 10 rounds\n",
      "[10]\ttraining's binary_logloss: 0.498259\tvalid_1's binary_logloss: 0.51762\n",
      "[20]\ttraining's binary_logloss: 0.420804\tvalid_1's binary_logloss: 0.453194\n",
      "[30]\ttraining's binary_logloss: 0.375385\tvalid_1's binary_logloss: 0.426672\n",
      "[40]\ttraining's binary_logloss: 0.34508\tvalid_1's binary_logloss: 0.416432\n",
      "[50]\ttraining's binary_logloss: 0.321939\tvalid_1's binary_logloss: 0.414835\n",
      "[60]\ttraining's binary_logloss: 0.300053\tvalid_1's binary_logloss: 0.408474\n",
      "[70]\ttraining's binary_logloss: 0.281982\tvalid_1's binary_logloss: 0.404967\n",
      "[80]\ttraining's binary_logloss: 0.266462\tvalid_1's binary_logloss: 0.411209\n",
      "Early stopping, best iteration is:\n",
      "[70]\ttraining's binary_logloss: 0.281982\tvalid_1's binary_logloss: 0.404967\n",
      "Training until validation scores don't improve for 10 rounds\n"
     ]
    },
    {
     "name": "stderr",
     "output_type": "stream",
     "text": [
      "\u001b[32m[I 2020-01-17 15:24:45,443]\u001b[0m Finished trial#4 resulted in value: 0.4049668082148141. Current best value is 0.4049668082148141 with parameters: {'max_bin': 427, 'num_leaves': 79}.\u001b[0m\n"
     ]
    },
    {
     "name": "stdout",
     "output_type": "stream",
     "text": [
      "[10]\ttraining's binary_logloss: 0.498259\tvalid_1's binary_logloss: 0.51762\n",
      "[20]\ttraining's binary_logloss: 0.420804\tvalid_1's binary_logloss: 0.453194\n",
      "[30]\ttraining's binary_logloss: 0.375385\tvalid_1's binary_logloss: 0.426672\n",
      "[40]\ttraining's binary_logloss: 0.34508\tvalid_1's binary_logloss: 0.416432\n",
      "[50]\ttraining's binary_logloss: 0.321939\tvalid_1's binary_logloss: 0.414835\n",
      "[60]\ttraining's binary_logloss: 0.300053\tvalid_1's binary_logloss: 0.408474\n",
      "[70]\ttraining's binary_logloss: 0.281982\tvalid_1's binary_logloss: 0.404967\n",
      "[80]\ttraining's binary_logloss: 0.266462\tvalid_1's binary_logloss: 0.411209\n",
      "Early stopping, best iteration is:\n",
      "[70]\ttraining's binary_logloss: 0.281982\tvalid_1's binary_logloss: 0.404967\n",
      "Training until validation scores don't improve for 10 rounds\n",
      "[10]\ttraining's binary_logloss: 0.498259\tvalid_1's binary_logloss: 0.51762\n"
     ]
    },
    {
     "name": "stderr",
     "output_type": "stream",
     "text": [
      "\u001b[32m[I 2020-01-17 15:24:45,644]\u001b[0m Finished trial#5 resulted in value: 0.4049668082148141. Current best value is 0.4049668082148141 with parameters: {'max_bin': 427, 'num_leaves': 79}.\u001b[0m\n"
     ]
    },
    {
     "name": "stdout",
     "output_type": "stream",
     "text": [
      "[20]\ttraining's binary_logloss: 0.420804\tvalid_1's binary_logloss: 0.453194\n",
      "[30]\ttraining's binary_logloss: 0.375385\tvalid_1's binary_logloss: 0.426672\n",
      "[40]\ttraining's binary_logloss: 0.34508\tvalid_1's binary_logloss: 0.416432\n",
      "[50]\ttraining's binary_logloss: 0.321939\tvalid_1's binary_logloss: 0.414835\n",
      "[60]\ttraining's binary_logloss: 0.300053\tvalid_1's binary_logloss: 0.408474\n",
      "[70]\ttraining's binary_logloss: 0.281982\tvalid_1's binary_logloss: 0.404967\n",
      "[80]\ttraining's binary_logloss: 0.266462\tvalid_1's binary_logloss: 0.411209\n",
      "Early stopping, best iteration is:\n",
      "[70]\ttraining's binary_logloss: 0.281982\tvalid_1's binary_logloss: 0.404967\n",
      "Training until validation scores don't improve for 10 rounds\n",
      "[10]\ttraining's binary_logloss: 0.498259\tvalid_1's binary_logloss: 0.51762\n",
      "[20]\ttraining's binary_logloss: 0.420804\tvalid_1's binary_logloss: 0.453194\n",
      "[30]\ttraining's binary_logloss: 0.375385\tvalid_1's binary_logloss: 0.426672\n"
     ]
    },
    {
     "name": "stderr",
     "output_type": "stream",
     "text": [
      "\u001b[32m[I 2020-01-17 15:24:45,844]\u001b[0m Finished trial#6 resulted in value: 0.4049668082148141. Current best value is 0.4049668082148141 with parameters: {'max_bin': 427, 'num_leaves': 79}.\u001b[0m\n"
     ]
    },
    {
     "name": "stdout",
     "output_type": "stream",
     "text": [
      "[40]\ttraining's binary_logloss: 0.34508\tvalid_1's binary_logloss: 0.416432\n",
      "[50]\ttraining's binary_logloss: 0.321939\tvalid_1's binary_logloss: 0.414835\n",
      "[60]\ttraining's binary_logloss: 0.300053\tvalid_1's binary_logloss: 0.408474\n",
      "[70]\ttraining's binary_logloss: 0.281982\tvalid_1's binary_logloss: 0.404967\n",
      "[80]\ttraining's binary_logloss: 0.266462\tvalid_1's binary_logloss: 0.411209\n",
      "Early stopping, best iteration is:\n",
      "[70]\ttraining's binary_logloss: 0.281982\tvalid_1's binary_logloss: 0.404967\n",
      "Training until validation scores don't improve for 10 rounds\n",
      "[10]\ttraining's binary_logloss: 0.498259\tvalid_1's binary_logloss: 0.51762\n",
      "[20]\ttraining's binary_logloss: 0.420804\tvalid_1's binary_logloss: 0.453194\n",
      "[30]\ttraining's binary_logloss: 0.375385\tvalid_1's binary_logloss: 0.426672\n",
      "[40]\ttraining's binary_logloss: 0.34508\tvalid_1's binary_logloss: 0.416432\n"
     ]
    },
    {
     "name": "stderr",
     "output_type": "stream",
     "text": [
      "\u001b[32m[I 2020-01-17 15:24:46,053]\u001b[0m Finished trial#7 resulted in value: 0.4049668082148141. Current best value is 0.4049668082148141 with parameters: {'max_bin': 427, 'num_leaves': 79}.\u001b[0m\n"
     ]
    },
    {
     "name": "stdout",
     "output_type": "stream",
     "text": [
      "[50]\ttraining's binary_logloss: 0.321939\tvalid_1's binary_logloss: 0.414835\n",
      "[60]\ttraining's binary_logloss: 0.300053\tvalid_1's binary_logloss: 0.408474\n",
      "[70]\ttraining's binary_logloss: 0.281982\tvalid_1's binary_logloss: 0.404967\n",
      "[80]\ttraining's binary_logloss: 0.266462\tvalid_1's binary_logloss: 0.411209\n",
      "Early stopping, best iteration is:\n",
      "[70]\ttraining's binary_logloss: 0.281982\tvalid_1's binary_logloss: 0.404967\n",
      "Training until validation scores don't improve for 10 rounds\n",
      "[10]\ttraining's binary_logloss: 0.498259\tvalid_1's binary_logloss: 0.51762\n",
      "[20]\ttraining's binary_logloss: 0.420804\tvalid_1's binary_logloss: 0.453194\n",
      "[30]\ttraining's binary_logloss: 0.375385\tvalid_1's binary_logloss: 0.426672\n",
      "[40]\ttraining's binary_logloss: 0.34508\tvalid_1's binary_logloss: 0.416432\n",
      "[50]\ttraining's binary_logloss: 0.321939\tvalid_1's binary_logloss: 0.414835\n"
     ]
    },
    {
     "name": "stderr",
     "output_type": "stream",
     "text": [
      "\u001b[32m[I 2020-01-17 15:24:46,272]\u001b[0m Finished trial#8 resulted in value: 0.4049668082148141. Current best value is 0.4049668082148141 with parameters: {'max_bin': 427, 'num_leaves': 79}.\u001b[0m\n"
     ]
    },
    {
     "name": "stdout",
     "output_type": "stream",
     "text": [
      "[60]\ttraining's binary_logloss: 0.300053\tvalid_1's binary_logloss: 0.408474\n",
      "[70]\ttraining's binary_logloss: 0.281982\tvalid_1's binary_logloss: 0.404967\n",
      "[80]\ttraining's binary_logloss: 0.266462\tvalid_1's binary_logloss: 0.411209\n",
      "Early stopping, best iteration is:\n",
      "[70]\ttraining's binary_logloss: 0.281982\tvalid_1's binary_logloss: 0.404967\n",
      "Training until validation scores don't improve for 10 rounds\n",
      "[10]\ttraining's binary_logloss: 0.498259\tvalid_1's binary_logloss: 0.51762\n",
      "[20]\ttraining's binary_logloss: 0.420804\tvalid_1's binary_logloss: 0.453194\n",
      "[30]\ttraining's binary_logloss: 0.375385\tvalid_1's binary_logloss: 0.426672\n",
      "[40]\ttraining's binary_logloss: 0.34508\tvalid_1's binary_logloss: 0.416432\n",
      "[50]\ttraining's binary_logloss: 0.321939\tvalid_1's binary_logloss: 0.414835\n",
      "[60]\ttraining's binary_logloss: 0.300053\tvalid_1's binary_logloss: 0.408474\n",
      "[70]\ttraining's binary_logloss: 0.281982\tvalid_1's binary_logloss: 0.404967\n"
     ]
    },
    {
     "name": "stderr",
     "output_type": "stream",
     "text": [
      "\u001b[32m[I 2020-01-17 15:24:46,474]\u001b[0m Finished trial#9 resulted in value: 0.4049668082148141. Current best value is 0.4049668082148141 with parameters: {'max_bin': 427, 'num_leaves': 79}.\u001b[0m\n"
     ]
    },
    {
     "name": "stdout",
     "output_type": "stream",
     "text": [
      "[80]\ttraining's binary_logloss: 0.266462\tvalid_1's binary_logloss: 0.411209\n",
      "Early stopping, best iteration is:\n",
      "[70]\ttraining's binary_logloss: 0.281982\tvalid_1's binary_logloss: 0.404967\n",
      "Training until validation scores don't improve for 10 rounds\n",
      "[10]\ttraining's binary_logloss: 0.498259\tvalid_1's binary_logloss: 0.51762\n",
      "[20]\ttraining's binary_logloss: 0.420804\tvalid_1's binary_logloss: 0.453194\n",
      "[30]\ttraining's binary_logloss: 0.375385\tvalid_1's binary_logloss: 0.426672\n",
      "[40]\ttraining's binary_logloss: 0.34508\tvalid_1's binary_logloss: 0.416432\n",
      "[50]\ttraining's binary_logloss: 0.321939\tvalid_1's binary_logloss: 0.414835\n",
      "[60]\ttraining's binary_logloss: 0.300053\tvalid_1's binary_logloss: 0.408474\n",
      "[70]\ttraining's binary_logloss: 0.281982\tvalid_1's binary_logloss: 0.404967\n",
      "[80]\ttraining's binary_logloss: 0.266462\tvalid_1's binary_logloss: 0.411209\n",
      "Early stopping, best iteration is:\n",
      "[70]\ttraining's binary_logloss: 0.281982\tvalid_1's binary_logloss: 0.404967\n"
     ]
    },
    {
     "name": "stderr",
     "output_type": "stream",
     "text": [
      "\u001b[32m[I 2020-01-17 15:24:46,647]\u001b[0m Finished trial#10 resulted in value: 0.4049668082148141. Current best value is 0.4049668082148141 with parameters: {'max_bin': 427, 'num_leaves': 79}.\u001b[0m\n",
      "\u001b[32m[I 2020-01-17 15:24:46,845]\u001b[0m Finished trial#11 resulted in value: 0.4049668082148141. Current best value is 0.4049668082148141 with parameters: {'max_bin': 427, 'num_leaves': 79}.\u001b[0m\n"
     ]
    },
    {
     "name": "stdout",
     "output_type": "stream",
     "text": [
      "Training until validation scores don't improve for 10 rounds\n",
      "[10]\ttraining's binary_logloss: 0.498259\tvalid_1's binary_logloss: 0.51762\n",
      "[20]\ttraining's binary_logloss: 0.420804\tvalid_1's binary_logloss: 0.453194\n",
      "[30]\ttraining's binary_logloss: 0.375385\tvalid_1's binary_logloss: 0.426672\n",
      "[40]\ttraining's binary_logloss: 0.34508\tvalid_1's binary_logloss: 0.416432\n",
      "[50]\ttraining's binary_logloss: 0.321939\tvalid_1's binary_logloss: 0.414835\n",
      "[60]\ttraining's binary_logloss: 0.300053\tvalid_1's binary_logloss: 0.408474\n",
      "[70]\ttraining's binary_logloss: 0.281982\tvalid_1's binary_logloss: 0.404967\n",
      "[80]\ttraining's binary_logloss: 0.266462\tvalid_1's binary_logloss: 0.411209\n",
      "Early stopping, best iteration is:\n",
      "[70]\ttraining's binary_logloss: 0.281982\tvalid_1's binary_logloss: 0.404967\n",
      "Training until validation scores don't improve for 10 rounds\n"
     ]
    },
    {
     "name": "stderr",
     "output_type": "stream",
     "text": [
      "\u001b[32m[I 2020-01-17 15:24:47,045]\u001b[0m Finished trial#12 resulted in value: 0.4049668082148141. Current best value is 0.4049668082148141 with parameters: {'max_bin': 427, 'num_leaves': 79}.\u001b[0m\n"
     ]
    },
    {
     "name": "stdout",
     "output_type": "stream",
     "text": [
      "[10]\ttraining's binary_logloss: 0.498259\tvalid_1's binary_logloss: 0.51762\n",
      "[20]\ttraining's binary_logloss: 0.420804\tvalid_1's binary_logloss: 0.453194\n",
      "[30]\ttraining's binary_logloss: 0.375385\tvalid_1's binary_logloss: 0.426672\n",
      "[40]\ttraining's binary_logloss: 0.34508\tvalid_1's binary_logloss: 0.416432\n",
      "[50]\ttraining's binary_logloss: 0.321939\tvalid_1's binary_logloss: 0.414835\n",
      "[60]\ttraining's binary_logloss: 0.300053\tvalid_1's binary_logloss: 0.408474\n",
      "[70]\ttraining's binary_logloss: 0.281982\tvalid_1's binary_logloss: 0.404967\n",
      "[80]\ttraining's binary_logloss: 0.266462\tvalid_1's binary_logloss: 0.411209\n",
      "Early stopping, best iteration is:\n",
      "[70]\ttraining's binary_logloss: 0.281982\tvalid_1's binary_logloss: 0.404967\n",
      "Training until validation scores don't improve for 10 rounds\n",
      "[10]\ttraining's binary_logloss: 0.498259\tvalid_1's binary_logloss: 0.51762\n",
      "[20]\ttraining's binary_logloss: 0.420804\tvalid_1's binary_logloss: 0.453194\n"
     ]
    },
    {
     "name": "stderr",
     "output_type": "stream",
     "text": [
      "\u001b[32m[I 2020-01-17 15:24:47,250]\u001b[0m Finished trial#13 resulted in value: 0.4049668082148141. Current best value is 0.4049668082148141 with parameters: {'max_bin': 427, 'num_leaves': 79}.\u001b[0m\n"
     ]
    },
    {
     "name": "stdout",
     "output_type": "stream",
     "text": [
      "[30]\ttraining's binary_logloss: 0.375385\tvalid_1's binary_logloss: 0.426672\n",
      "[40]\ttraining's binary_logloss: 0.34508\tvalid_1's binary_logloss: 0.416432\n",
      "[50]\ttraining's binary_logloss: 0.321939\tvalid_1's binary_logloss: 0.414835\n",
      "[60]\ttraining's binary_logloss: 0.300053\tvalid_1's binary_logloss: 0.408474\n",
      "[70]\ttraining's binary_logloss: 0.281982\tvalid_1's binary_logloss: 0.404967\n",
      "[80]\ttraining's binary_logloss: 0.266462\tvalid_1's binary_logloss: 0.411209\n",
      "Early stopping, best iteration is:\n",
      "[70]\ttraining's binary_logloss: 0.281982\tvalid_1's binary_logloss: 0.404967\n",
      "Training until validation scores don't improve for 10 rounds\n",
      "[10]\ttraining's binary_logloss: 0.498259\tvalid_1's binary_logloss: 0.51762\n",
      "[20]\ttraining's binary_logloss: 0.420804\tvalid_1's binary_logloss: 0.453194\n"
     ]
    },
    {
     "name": "stderr",
     "output_type": "stream",
     "text": [
      "\u001b[32m[I 2020-01-17 15:24:47,452]\u001b[0m Finished trial#14 resulted in value: 0.4049668082148141. Current best value is 0.4049668082148141 with parameters: {'max_bin': 427, 'num_leaves': 79}.\u001b[0m\n"
     ]
    },
    {
     "name": "stdout",
     "output_type": "stream",
     "text": [
      "[30]\ttraining's binary_logloss: 0.375385\tvalid_1's binary_logloss: 0.426672\n",
      "[40]\ttraining's binary_logloss: 0.34508\tvalid_1's binary_logloss: 0.416432\n",
      "[50]\ttraining's binary_logloss: 0.321939\tvalid_1's binary_logloss: 0.414835\n",
      "[60]\ttraining's binary_logloss: 0.300053\tvalid_1's binary_logloss: 0.408474\n",
      "[70]\ttraining's binary_logloss: 0.281982\tvalid_1's binary_logloss: 0.404967\n",
      "[80]\ttraining's binary_logloss: 0.266462\tvalid_1's binary_logloss: 0.411209\n",
      "Early stopping, best iteration is:\n",
      "[70]\ttraining's binary_logloss: 0.281982\tvalid_1's binary_logloss: 0.404967\n",
      "Training until validation scores don't improve for 10 rounds\n",
      "[10]\ttraining's binary_logloss: 0.498259\tvalid_1's binary_logloss: 0.51762\n",
      "[20]\ttraining's binary_logloss: 0.420804\tvalid_1's binary_logloss: 0.453194\n"
     ]
    },
    {
     "name": "stderr",
     "output_type": "stream",
     "text": [
      "\u001b[32m[I 2020-01-17 15:24:47,674]\u001b[0m Finished trial#15 resulted in value: 0.4049668082148141. Current best value is 0.4049668082148141 with parameters: {'max_bin': 427, 'num_leaves': 79}.\u001b[0m\n"
     ]
    },
    {
     "name": "stdout",
     "output_type": "stream",
     "text": [
      "[30]\ttraining's binary_logloss: 0.375385\tvalid_1's binary_logloss: 0.426672\n",
      "[40]\ttraining's binary_logloss: 0.34508\tvalid_1's binary_logloss: 0.416432\n",
      "[50]\ttraining's binary_logloss: 0.321939\tvalid_1's binary_logloss: 0.414835\n",
      "[60]\ttraining's binary_logloss: 0.300053\tvalid_1's binary_logloss: 0.408474\n",
      "[70]\ttraining's binary_logloss: 0.281982\tvalid_1's binary_logloss: 0.404967\n",
      "[80]\ttraining's binary_logloss: 0.266462\tvalid_1's binary_logloss: 0.411209\n",
      "Early stopping, best iteration is:\n",
      "[70]\ttraining's binary_logloss: 0.281982\tvalid_1's binary_logloss: 0.404967\n",
      "Training until validation scores don't improve for 10 rounds\n",
      "[10]\ttraining's binary_logloss: 0.498259\tvalid_1's binary_logloss: 0.51762\n",
      "[20]\ttraining's binary_logloss: 0.420804\tvalid_1's binary_logloss: 0.453194\n"
     ]
    },
    {
     "name": "stderr",
     "output_type": "stream",
     "text": [
      "\u001b[32m[I 2020-01-17 15:24:47,884]\u001b[0m Finished trial#16 resulted in value: 0.4049668082148141. Current best value is 0.4049668082148141 with parameters: {'max_bin': 427, 'num_leaves': 79}.\u001b[0m\n"
     ]
    },
    {
     "name": "stdout",
     "output_type": "stream",
     "text": [
      "[30]\ttraining's binary_logloss: 0.375385\tvalid_1's binary_logloss: 0.426672\n",
      "[40]\ttraining's binary_logloss: 0.34508\tvalid_1's binary_logloss: 0.416432\n",
      "[50]\ttraining's binary_logloss: 0.321939\tvalid_1's binary_logloss: 0.414835\n",
      "[60]\ttraining's binary_logloss: 0.300053\tvalid_1's binary_logloss: 0.408474\n",
      "[70]\ttraining's binary_logloss: 0.281982\tvalid_1's binary_logloss: 0.404967\n",
      "[80]\ttraining's binary_logloss: 0.266462\tvalid_1's binary_logloss: 0.411209\n",
      "Early stopping, best iteration is:\n",
      "[70]\ttraining's binary_logloss: 0.281982\tvalid_1's binary_logloss: 0.404967\n",
      "Training until validation scores don't improve for 10 rounds\n",
      "[10]\ttraining's binary_logloss: 0.498259\tvalid_1's binary_logloss: 0.51762\n",
      "[20]\ttraining's binary_logloss: 0.420804\tvalid_1's binary_logloss: 0.453194\n"
     ]
    },
    {
     "name": "stderr",
     "output_type": "stream",
     "text": [
      "\u001b[32m[I 2020-01-17 15:24:48,090]\u001b[0m Finished trial#17 resulted in value: 0.4049668082148141. Current best value is 0.4049668082148141 with parameters: {'max_bin': 427, 'num_leaves': 79}.\u001b[0m\n"
     ]
    },
    {
     "name": "stdout",
     "output_type": "stream",
     "text": [
      "[30]\ttraining's binary_logloss: 0.375385\tvalid_1's binary_logloss: 0.426672\n",
      "[40]\ttraining's binary_logloss: 0.34508\tvalid_1's binary_logloss: 0.416432\n",
      "[50]\ttraining's binary_logloss: 0.321939\tvalid_1's binary_logloss: 0.414835\n",
      "[60]\ttraining's binary_logloss: 0.300053\tvalid_1's binary_logloss: 0.408474\n",
      "[70]\ttraining's binary_logloss: 0.281982\tvalid_1's binary_logloss: 0.404967\n",
      "[80]\ttraining's binary_logloss: 0.266462\tvalid_1's binary_logloss: 0.411209\n",
      "Early stopping, best iteration is:\n",
      "[70]\ttraining's binary_logloss: 0.281982\tvalid_1's binary_logloss: 0.404967\n",
      "Training until validation scores don't improve for 10 rounds\n",
      "[10]\ttraining's binary_logloss: 0.498259\tvalid_1's binary_logloss: 0.51762\n",
      "[20]\ttraining's binary_logloss: 0.420804\tvalid_1's binary_logloss: 0.453194\n",
      "[30]\ttraining's binary_logloss: 0.375385\tvalid_1's binary_logloss: 0.426672\n"
     ]
    },
    {
     "name": "stderr",
     "output_type": "stream",
     "text": [
      "\u001b[32m[I 2020-01-17 15:24:48,292]\u001b[0m Finished trial#18 resulted in value: 0.4049668082148141. Current best value is 0.4049668082148141 with parameters: {'max_bin': 427, 'num_leaves': 79}.\u001b[0m\n"
     ]
    },
    {
     "name": "stdout",
     "output_type": "stream",
     "text": [
      "[40]\ttraining's binary_logloss: 0.34508\tvalid_1's binary_logloss: 0.416432\n",
      "[50]\ttraining's binary_logloss: 0.321939\tvalid_1's binary_logloss: 0.414835\n",
      "[60]\ttraining's binary_logloss: 0.300053\tvalid_1's binary_logloss: 0.408474\n",
      "[70]\ttraining's binary_logloss: 0.281982\tvalid_1's binary_logloss: 0.404967\n",
      "[80]\ttraining's binary_logloss: 0.266462\tvalid_1's binary_logloss: 0.411209\n",
      "Early stopping, best iteration is:\n",
      "[70]\ttraining's binary_logloss: 0.281982\tvalid_1's binary_logloss: 0.404967\n",
      "Training until validation scores don't improve for 10 rounds\n",
      "[10]\ttraining's binary_logloss: 0.498259\tvalid_1's binary_logloss: 0.51762\n",
      "[20]\ttraining's binary_logloss: 0.420804\tvalid_1's binary_logloss: 0.453194\n",
      "[30]\ttraining's binary_logloss: 0.375385\tvalid_1's binary_logloss: 0.426672\n",
      "[40]\ttraining's binary_logloss: 0.34508\tvalid_1's binary_logloss: 0.416432\n"
     ]
    },
    {
     "name": "stderr",
     "output_type": "stream",
     "text": [
      "\u001b[32m[I 2020-01-17 15:24:48,501]\u001b[0m Finished trial#19 resulted in value: 0.4049668082148141. Current best value is 0.4049668082148141 with parameters: {'max_bin': 427, 'num_leaves': 79}.\u001b[0m\n"
     ]
    },
    {
     "name": "stdout",
     "output_type": "stream",
     "text": [
      "[50]\ttraining's binary_logloss: 0.321939\tvalid_1's binary_logloss: 0.414835\n",
      "[60]\ttraining's binary_logloss: 0.300053\tvalid_1's binary_logloss: 0.408474\n",
      "[70]\ttraining's binary_logloss: 0.281982\tvalid_1's binary_logloss: 0.404967\n",
      "[80]\ttraining's binary_logloss: 0.266462\tvalid_1's binary_logloss: 0.411209\n",
      "Early stopping, best iteration is:\n",
      "[70]\ttraining's binary_logloss: 0.281982\tvalid_1's binary_logloss: 0.404967\n",
      "Training until validation scores don't improve for 10 rounds\n",
      "[10]\ttraining's binary_logloss: 0.498259\tvalid_1's binary_logloss: 0.51762\n",
      "[20]\ttraining's binary_logloss: 0.420804\tvalid_1's binary_logloss: 0.453194\n",
      "[30]\ttraining's binary_logloss: 0.375385\tvalid_1's binary_logloss: 0.426672\n",
      "[40]\ttraining's binary_logloss: 0.34508\tvalid_1's binary_logloss: 0.416432\n"
     ]
    },
    {
     "name": "stderr",
     "output_type": "stream",
     "text": [
      "\u001b[32m[I 2020-01-17 15:24:48,723]\u001b[0m Finished trial#20 resulted in value: 0.4049668082148141. Current best value is 0.4049668082148141 with parameters: {'max_bin': 427, 'num_leaves': 79}.\u001b[0m\n"
     ]
    },
    {
     "name": "stdout",
     "output_type": "stream",
     "text": [
      "[50]\ttraining's binary_logloss: 0.321939\tvalid_1's binary_logloss: 0.414835\n",
      "[60]\ttraining's binary_logloss: 0.300053\tvalid_1's binary_logloss: 0.408474\n",
      "[70]\ttraining's binary_logloss: 0.281982\tvalid_1's binary_logloss: 0.404967\n",
      "[80]\ttraining's binary_logloss: 0.266462\tvalid_1's binary_logloss: 0.411209\n",
      "Early stopping, best iteration is:\n",
      "[70]\ttraining's binary_logloss: 0.281982\tvalid_1's binary_logloss: 0.404967\n",
      "Training until validation scores don't improve for 10 rounds\n",
      "[10]\ttraining's binary_logloss: 0.498259\tvalid_1's binary_logloss: 0.51762\n",
      "[20]\ttraining's binary_logloss: 0.420804\tvalid_1's binary_logloss: 0.453194\n",
      "[30]\ttraining's binary_logloss: 0.375385\tvalid_1's binary_logloss: 0.426672\n",
      "[40]\ttraining's binary_logloss: 0.34508\tvalid_1's binary_logloss: 0.416432\n",
      "[50]\ttraining's binary_logloss: 0.321939\tvalid_1's binary_logloss: 0.414835\n"
     ]
    },
    {
     "name": "stderr",
     "output_type": "stream",
     "text": [
      "\u001b[32m[I 2020-01-17 15:24:48,905]\u001b[0m Finished trial#21 resulted in value: 0.4049668082148141. Current best value is 0.4049668082148141 with parameters: {'max_bin': 427, 'num_leaves': 79}.\u001b[0m\n"
     ]
    },
    {
     "name": "stdout",
     "output_type": "stream",
     "text": [
      "[60]\ttraining's binary_logloss: 0.300053\tvalid_1's binary_logloss: 0.408474\n",
      "[70]\ttraining's binary_logloss: 0.281982\tvalid_1's binary_logloss: 0.404967\n",
      "[80]\ttraining's binary_logloss: 0.266462\tvalid_1's binary_logloss: 0.411209\n",
      "Early stopping, best iteration is:\n",
      "[70]\ttraining's binary_logloss: 0.281982\tvalid_1's binary_logloss: 0.404967\n",
      "Training until validation scores don't improve for 10 rounds\n",
      "[10]\ttraining's binary_logloss: 0.498259\tvalid_1's binary_logloss: 0.51762\n",
      "[20]\ttraining's binary_logloss: 0.420804\tvalid_1's binary_logloss: 0.453194\n",
      "[30]\ttraining's binary_logloss: 0.375385\tvalid_1's binary_logloss: 0.426672\n",
      "[40]\ttraining's binary_logloss: 0.34508\tvalid_1's binary_logloss: 0.416432\n",
      "[50]\ttraining's binary_logloss: 0.321939\tvalid_1's binary_logloss: 0.414835\n",
      "[60]\ttraining's binary_logloss: 0.300053\tvalid_1's binary_logloss: 0.408474\n",
      "[70]\ttraining's binary_logloss: 0.281982\tvalid_1's binary_logloss: 0.404967\n"
     ]
    },
    {
     "name": "stderr",
     "output_type": "stream",
     "text": [
      "\u001b[32m[I 2020-01-17 15:24:49,102]\u001b[0m Finished trial#22 resulted in value: 0.4049668082148141. Current best value is 0.4049668082148141 with parameters: {'max_bin': 427, 'num_leaves': 79}.\u001b[0m\n"
     ]
    },
    {
     "name": "stdout",
     "output_type": "stream",
     "text": [
      "[80]\ttraining's binary_logloss: 0.266462\tvalid_1's binary_logloss: 0.411209\n",
      "Early stopping, best iteration is:\n",
      "[70]\ttraining's binary_logloss: 0.281982\tvalid_1's binary_logloss: 0.404967\n",
      "Training until validation scores don't improve for 10 rounds\n",
      "[10]\ttraining's binary_logloss: 0.498259\tvalid_1's binary_logloss: 0.51762\n",
      "[20]\ttraining's binary_logloss: 0.420804\tvalid_1's binary_logloss: 0.453194\n",
      "[30]\ttraining's binary_logloss: 0.375385\tvalid_1's binary_logloss: 0.426672\n",
      "[40]\ttraining's binary_logloss: 0.34508\tvalid_1's binary_logloss: 0.416432\n",
      "[50]\ttraining's binary_logloss: 0.321939\tvalid_1's binary_logloss: 0.414835\n",
      "[60]\ttraining's binary_logloss: 0.300053\tvalid_1's binary_logloss: 0.408474\n",
      "[70]\ttraining's binary_logloss: 0.281982\tvalid_1's binary_logloss: 0.404967\n",
      "[80]\ttraining's binary_logloss: 0.266462\tvalid_1's binary_logloss: 0.411209\n",
      "Early stopping, best iteration is:\n",
      "[70]\ttraining's binary_logloss: 0.281982\tvalid_1's binary_logloss: 0.404967\n"
     ]
    },
    {
     "name": "stderr",
     "output_type": "stream",
     "text": [
      "\u001b[32m[I 2020-01-17 15:24:49,297]\u001b[0m Finished trial#23 resulted in value: 0.4049668082148141. Current best value is 0.4049668082148141 with parameters: {'max_bin': 427, 'num_leaves': 79}.\u001b[0m\n",
      "\u001b[32m[I 2020-01-17 15:24:49,502]\u001b[0m Finished trial#24 resulted in value: 0.4049668082148141. Current best value is 0.4049668082148141 with parameters: {'max_bin': 427, 'num_leaves': 79}.\u001b[0m\n"
     ]
    },
    {
     "name": "stdout",
     "output_type": "stream",
     "text": [
      "Training until validation scores don't improve for 10 rounds\n",
      "[10]\ttraining's binary_logloss: 0.498259\tvalid_1's binary_logloss: 0.51762\n",
      "[20]\ttraining's binary_logloss: 0.420804\tvalid_1's binary_logloss: 0.453194\n",
      "[30]\ttraining's binary_logloss: 0.375385\tvalid_1's binary_logloss: 0.426672\n",
      "[40]\ttraining's binary_logloss: 0.34508\tvalid_1's binary_logloss: 0.416432\n",
      "[50]\ttraining's binary_logloss: 0.321939\tvalid_1's binary_logloss: 0.414835\n",
      "[60]\ttraining's binary_logloss: 0.300053\tvalid_1's binary_logloss: 0.408474\n",
      "[70]\ttraining's binary_logloss: 0.281982\tvalid_1's binary_logloss: 0.404967\n",
      "[80]\ttraining's binary_logloss: 0.266462\tvalid_1's binary_logloss: 0.411209\n",
      "Early stopping, best iteration is:\n",
      "[70]\ttraining's binary_logloss: 0.281982\tvalid_1's binary_logloss: 0.404967\n"
     ]
    },
    {
     "name": "stderr",
     "output_type": "stream",
     "text": [
      "\u001b[32m[I 2020-01-17 15:24:49,701]\u001b[0m Finished trial#25 resulted in value: 0.4049668082148141. Current best value is 0.4049668082148141 with parameters: {'max_bin': 427, 'num_leaves': 79}.\u001b[0m\n"
     ]
    },
    {
     "name": "stdout",
     "output_type": "stream",
     "text": [
      "Training until validation scores don't improve for 10 rounds\n",
      "[10]\ttraining's binary_logloss: 0.498259\tvalid_1's binary_logloss: 0.51762\n",
      "[20]\ttraining's binary_logloss: 0.420804\tvalid_1's binary_logloss: 0.453194\n",
      "[30]\ttraining's binary_logloss: 0.375385\tvalid_1's binary_logloss: 0.426672\n",
      "[40]\ttraining's binary_logloss: 0.34508\tvalid_1's binary_logloss: 0.416432\n",
      "[50]\ttraining's binary_logloss: 0.321939\tvalid_1's binary_logloss: 0.414835\n",
      "[60]\ttraining's binary_logloss: 0.300053\tvalid_1's binary_logloss: 0.408474\n",
      "[70]\ttraining's binary_logloss: 0.281982\tvalid_1's binary_logloss: 0.404967\n",
      "[80]\ttraining's binary_logloss: 0.266462\tvalid_1's binary_logloss: 0.411209\n",
      "Early stopping, best iteration is:\n",
      "[70]\ttraining's binary_logloss: 0.281982\tvalid_1's binary_logloss: 0.404967\n",
      "Training until validation scores don't improve for 10 rounds\n"
     ]
    },
    {
     "name": "stderr",
     "output_type": "stream",
     "text": [
      "\u001b[32m[I 2020-01-17 15:24:49,899]\u001b[0m Finished trial#26 resulted in value: 0.4049668082148141. Current best value is 0.4049668082148141 with parameters: {'max_bin': 427, 'num_leaves': 79}.\u001b[0m\n"
     ]
    },
    {
     "name": "stdout",
     "output_type": "stream",
     "text": [
      "[10]\ttraining's binary_logloss: 0.498259\tvalid_1's binary_logloss: 0.51762\n",
      "[20]\ttraining's binary_logloss: 0.420804\tvalid_1's binary_logloss: 0.453194\n",
      "[30]\ttraining's binary_logloss: 0.375385\tvalid_1's binary_logloss: 0.426672\n",
      "[40]\ttraining's binary_logloss: 0.34508\tvalid_1's binary_logloss: 0.416432\n",
      "[50]\ttraining's binary_logloss: 0.321939\tvalid_1's binary_logloss: 0.414835\n",
      "[60]\ttraining's binary_logloss: 0.300053\tvalid_1's binary_logloss: 0.408474\n",
      "[70]\ttraining's binary_logloss: 0.281982\tvalid_1's binary_logloss: 0.404967\n",
      "[80]\ttraining's binary_logloss: 0.266462\tvalid_1's binary_logloss: 0.411209\n",
      "Early stopping, best iteration is:\n",
      "[70]\ttraining's binary_logloss: 0.281982\tvalid_1's binary_logloss: 0.404967\n",
      "Training until validation scores don't improve for 10 rounds\n",
      "[10]\ttraining's binary_logloss: 0.498259\tvalid_1's binary_logloss: 0.51762\n",
      "[20]\ttraining's binary_logloss: 0.420804\tvalid_1's binary_logloss: 0.453194\n"
     ]
    },
    {
     "name": "stderr",
     "output_type": "stream",
     "text": [
      "\u001b[32m[I 2020-01-17 15:24:50,102]\u001b[0m Finished trial#27 resulted in value: 0.4049668082148141. Current best value is 0.4049668082148141 with parameters: {'max_bin': 427, 'num_leaves': 79}.\u001b[0m\n"
     ]
    },
    {
     "name": "stdout",
     "output_type": "stream",
     "text": [
      "[30]\ttraining's binary_logloss: 0.375385\tvalid_1's binary_logloss: 0.426672\n",
      "[40]\ttraining's binary_logloss: 0.34508\tvalid_1's binary_logloss: 0.416432\n",
      "[50]\ttraining's binary_logloss: 0.321939\tvalid_1's binary_logloss: 0.414835\n",
      "[60]\ttraining's binary_logloss: 0.300053\tvalid_1's binary_logloss: 0.408474\n",
      "[70]\ttraining's binary_logloss: 0.281982\tvalid_1's binary_logloss: 0.404967\n",
      "[80]\ttraining's binary_logloss: 0.266462\tvalid_1's binary_logloss: 0.411209\n",
      "Early stopping, best iteration is:\n",
      "[70]\ttraining's binary_logloss: 0.281982\tvalid_1's binary_logloss: 0.404967\n",
      "Training until validation scores don't improve for 10 rounds\n",
      "[10]\ttraining's binary_logloss: 0.498259\tvalid_1's binary_logloss: 0.51762\n",
      "[20]\ttraining's binary_logloss: 0.420804\tvalid_1's binary_logloss: 0.453194\n",
      "[30]\ttraining's binary_logloss: 0.375385\tvalid_1's binary_logloss: 0.426672\n"
     ]
    },
    {
     "name": "stderr",
     "output_type": "stream",
     "text": [
      "\u001b[32m[I 2020-01-17 15:24:50,323]\u001b[0m Finished trial#28 resulted in value: 0.4049668082148141. Current best value is 0.4049668082148141 with parameters: {'max_bin': 427, 'num_leaves': 79}.\u001b[0m\n"
     ]
    },
    {
     "name": "stdout",
     "output_type": "stream",
     "text": [
      "[40]\ttraining's binary_logloss: 0.34508\tvalid_1's binary_logloss: 0.416432\n",
      "[50]\ttraining's binary_logloss: 0.321939\tvalid_1's binary_logloss: 0.414835\n",
      "[60]\ttraining's binary_logloss: 0.300053\tvalid_1's binary_logloss: 0.408474\n",
      "[70]\ttraining's binary_logloss: 0.281982\tvalid_1's binary_logloss: 0.404967\n",
      "[80]\ttraining's binary_logloss: 0.266462\tvalid_1's binary_logloss: 0.411209\n",
      "Early stopping, best iteration is:\n",
      "[70]\ttraining's binary_logloss: 0.281982\tvalid_1's binary_logloss: 0.404967\n",
      "Training until validation scores don't improve for 10 rounds\n",
      "[10]\ttraining's binary_logloss: 0.498259\tvalid_1's binary_logloss: 0.51762\n",
      "[20]\ttraining's binary_logloss: 0.420804\tvalid_1's binary_logloss: 0.453194\n",
      "[30]\ttraining's binary_logloss: 0.375385\tvalid_1's binary_logloss: 0.426672\n",
      "[40]\ttraining's binary_logloss: 0.34508\tvalid_1's binary_logloss: 0.416432\n"
     ]
    },
    {
     "name": "stderr",
     "output_type": "stream",
     "text": [
      "\u001b[32m[I 2020-01-17 15:24:50,525]\u001b[0m Finished trial#29 resulted in value: 0.4049668082148141. Current best value is 0.4049668082148141 with parameters: {'max_bin': 427, 'num_leaves': 79}.\u001b[0m\n"
     ]
    },
    {
     "name": "stdout",
     "output_type": "stream",
     "text": [
      "[50]\ttraining's binary_logloss: 0.321939\tvalid_1's binary_logloss: 0.414835\n",
      "[60]\ttraining's binary_logloss: 0.300053\tvalid_1's binary_logloss: 0.408474\n",
      "[70]\ttraining's binary_logloss: 0.281982\tvalid_1's binary_logloss: 0.404967\n",
      "[80]\ttraining's binary_logloss: 0.266462\tvalid_1's binary_logloss: 0.411209\n",
      "Early stopping, best iteration is:\n",
      "[70]\ttraining's binary_logloss: 0.281982\tvalid_1's binary_logloss: 0.404967\n",
      "Training until validation scores don't improve for 10 rounds\n",
      "[10]\ttraining's binary_logloss: 0.498259\tvalid_1's binary_logloss: 0.51762\n",
      "[20]\ttraining's binary_logloss: 0.420804\tvalid_1's binary_logloss: 0.453194\n",
      "[30]\ttraining's binary_logloss: 0.375385\tvalid_1's binary_logloss: 0.426672\n",
      "[40]\ttraining's binary_logloss: 0.34508\tvalid_1's binary_logloss: 0.416432\n"
     ]
    },
    {
     "name": "stderr",
     "output_type": "stream",
     "text": [
      "\u001b[32m[I 2020-01-17 15:24:50,727]\u001b[0m Finished trial#30 resulted in value: 0.4049668082148141. Current best value is 0.4049668082148141 with parameters: {'max_bin': 427, 'num_leaves': 79}.\u001b[0m\n"
     ]
    },
    {
     "name": "stdout",
     "output_type": "stream",
     "text": [
      "[50]\ttraining's binary_logloss: 0.321939\tvalid_1's binary_logloss: 0.414835\n",
      "[60]\ttraining's binary_logloss: 0.300053\tvalid_1's binary_logloss: 0.408474\n",
      "[70]\ttraining's binary_logloss: 0.281982\tvalid_1's binary_logloss: 0.404967\n",
      "[80]\ttraining's binary_logloss: 0.266462\tvalid_1's binary_logloss: 0.411209\n",
      "Early stopping, best iteration is:\n",
      "[70]\ttraining's binary_logloss: 0.281982\tvalid_1's binary_logloss: 0.404967\n",
      "Training until validation scores don't improve for 10 rounds\n",
      "[10]\ttraining's binary_logloss: 0.498259\tvalid_1's binary_logloss: 0.51762\n",
      "[20]\ttraining's binary_logloss: 0.420804\tvalid_1's binary_logloss: 0.453194\n",
      "[30]\ttraining's binary_logloss: 0.375385\tvalid_1's binary_logloss: 0.426672\n",
      "[40]\ttraining's binary_logloss: 0.34508\tvalid_1's binary_logloss: 0.416432\n",
      "[50]\ttraining's binary_logloss: 0.321939\tvalid_1's binary_logloss: 0.414835\n"
     ]
    },
    {
     "name": "stderr",
     "output_type": "stream",
     "text": [
      "\u001b[32m[I 2020-01-17 15:24:50,927]\u001b[0m Finished trial#31 resulted in value: 0.4049668082148141. Current best value is 0.4049668082148141 with parameters: {'max_bin': 427, 'num_leaves': 79}.\u001b[0m\n"
     ]
    },
    {
     "name": "stdout",
     "output_type": "stream",
     "text": [
      "[60]\ttraining's binary_logloss: 0.300053\tvalid_1's binary_logloss: 0.408474\n",
      "[70]\ttraining's binary_logloss: 0.281982\tvalid_1's binary_logloss: 0.404967\n",
      "[80]\ttraining's binary_logloss: 0.266462\tvalid_1's binary_logloss: 0.411209\n",
      "Early stopping, best iteration is:\n",
      "[70]\ttraining's binary_logloss: 0.281982\tvalid_1's binary_logloss: 0.404967\n",
      "Training until validation scores don't improve for 10 rounds\n",
      "[10]\ttraining's binary_logloss: 0.498259\tvalid_1's binary_logloss: 0.51762\n",
      "[20]\ttraining's binary_logloss: 0.420804\tvalid_1's binary_logloss: 0.453194\n",
      "[30]\ttraining's binary_logloss: 0.375385\tvalid_1's binary_logloss: 0.426672\n",
      "[40]\ttraining's binary_logloss: 0.34508\tvalid_1's binary_logloss: 0.416432\n",
      "[50]\ttraining's binary_logloss: 0.321939\tvalid_1's binary_logloss: 0.414835\n",
      "[60]\ttraining's binary_logloss: 0.300053\tvalid_1's binary_logloss: 0.408474\n"
     ]
    },
    {
     "name": "stderr",
     "output_type": "stream",
     "text": [
      "\u001b[32m[I 2020-01-17 15:24:51,127]\u001b[0m Finished trial#32 resulted in value: 0.4049668082148141. Current best value is 0.4049668082148141 with parameters: {'max_bin': 427, 'num_leaves': 79}.\u001b[0m\n"
     ]
    },
    {
     "name": "stdout",
     "output_type": "stream",
     "text": [
      "[70]\ttraining's binary_logloss: 0.281982\tvalid_1's binary_logloss: 0.404967\n",
      "[80]\ttraining's binary_logloss: 0.266462\tvalid_1's binary_logloss: 0.411209\n",
      "Early stopping, best iteration is:\n",
      "[70]\ttraining's binary_logloss: 0.281982\tvalid_1's binary_logloss: 0.404967\n",
      "Training until validation scores don't improve for 10 rounds\n",
      "[10]\ttraining's binary_logloss: 0.498259\tvalid_1's binary_logloss: 0.51762\n",
      "[20]\ttraining's binary_logloss: 0.420804\tvalid_1's binary_logloss: 0.453194\n",
      "[30]\ttraining's binary_logloss: 0.375385\tvalid_1's binary_logloss: 0.426672\n",
      "[40]\ttraining's binary_logloss: 0.34508\tvalid_1's binary_logloss: 0.416432\n",
      "[50]\ttraining's binary_logloss: 0.321939\tvalid_1's binary_logloss: 0.414835\n",
      "[60]\ttraining's binary_logloss: 0.300053\tvalid_1's binary_logloss: 0.408474\n",
      "[70]\ttraining's binary_logloss: 0.281982\tvalid_1's binary_logloss: 0.404967\n"
     ]
    },
    {
     "name": "stderr",
     "output_type": "stream",
     "text": [
      "\u001b[32m[I 2020-01-17 15:24:51,323]\u001b[0m Finished trial#33 resulted in value: 0.4049668082148141. Current best value is 0.4049668082148141 with parameters: {'max_bin': 427, 'num_leaves': 79}.\u001b[0m\n"
     ]
    },
    {
     "name": "stdout",
     "output_type": "stream",
     "text": [
      "[80]\ttraining's binary_logloss: 0.266462\tvalid_1's binary_logloss: 0.411209\n",
      "Early stopping, best iteration is:\n",
      "[70]\ttraining's binary_logloss: 0.281982\tvalid_1's binary_logloss: 0.404967\n",
      "Training until validation scores don't improve for 10 rounds\n",
      "[10]\ttraining's binary_logloss: 0.498259\tvalid_1's binary_logloss: 0.51762\n",
      "[20]\ttraining's binary_logloss: 0.420804\tvalid_1's binary_logloss: 0.453194\n",
      "[30]\ttraining's binary_logloss: 0.375385\tvalid_1's binary_logloss: 0.426672\n",
      "[40]\ttraining's binary_logloss: 0.34508\tvalid_1's binary_logloss: 0.416432\n",
      "[50]\ttraining's binary_logloss: 0.321939\tvalid_1's binary_logloss: 0.414835\n",
      "[60]\ttraining's binary_logloss: 0.300053\tvalid_1's binary_logloss: 0.408474\n",
      "[70]\ttraining's binary_logloss: 0.281982\tvalid_1's binary_logloss: 0.404967\n"
     ]
    },
    {
     "name": "stderr",
     "output_type": "stream",
     "text": [
      "\u001b[32m[I 2020-01-17 15:24:51,528]\u001b[0m Finished trial#34 resulted in value: 0.4049668082148141. Current best value is 0.4049668082148141 with parameters: {'max_bin': 427, 'num_leaves': 79}.\u001b[0m\n"
     ]
    },
    {
     "name": "stdout",
     "output_type": "stream",
     "text": [
      "[80]\ttraining's binary_logloss: 0.266462\tvalid_1's binary_logloss: 0.411209\n",
      "Early stopping, best iteration is:\n",
      "[70]\ttraining's binary_logloss: 0.281982\tvalid_1's binary_logloss: 0.404967\n",
      "Training until validation scores don't improve for 10 rounds\n",
      "[10]\ttraining's binary_logloss: 0.498259\tvalid_1's binary_logloss: 0.51762\n",
      "[20]\ttraining's binary_logloss: 0.420804\tvalid_1's binary_logloss: 0.453194\n",
      "[30]\ttraining's binary_logloss: 0.375385\tvalid_1's binary_logloss: 0.426672\n",
      "[40]\ttraining's binary_logloss: 0.34508\tvalid_1's binary_logloss: 0.416432\n",
      "[50]\ttraining's binary_logloss: 0.321939\tvalid_1's binary_logloss: 0.414835\n",
      "[60]\ttraining's binary_logloss: 0.300053\tvalid_1's binary_logloss: 0.408474\n",
      "[70]\ttraining's binary_logloss: 0.281982\tvalid_1's binary_logloss: 0.404967\n"
     ]
    },
    {
     "name": "stderr",
     "output_type": "stream",
     "text": [
      "\u001b[32m[I 2020-01-17 15:24:51,738]\u001b[0m Finished trial#35 resulted in value: 0.4049668082148141. Current best value is 0.4049668082148141 with parameters: {'max_bin': 427, 'num_leaves': 79}.\u001b[0m\n"
     ]
    },
    {
     "name": "stdout",
     "output_type": "stream",
     "text": [
      "[80]\ttraining's binary_logloss: 0.266462\tvalid_1's binary_logloss: 0.411209\n",
      "Early stopping, best iteration is:\n",
      "[70]\ttraining's binary_logloss: 0.281982\tvalid_1's binary_logloss: 0.404967\n",
      "Training until validation scores don't improve for 10 rounds\n",
      "[10]\ttraining's binary_logloss: 0.498259\tvalid_1's binary_logloss: 0.51762\n",
      "[20]\ttraining's binary_logloss: 0.420804\tvalid_1's binary_logloss: 0.453194\n",
      "[30]\ttraining's binary_logloss: 0.375385\tvalid_1's binary_logloss: 0.426672\n",
      "[40]\ttraining's binary_logloss: 0.34508\tvalid_1's binary_logloss: 0.416432\n",
      "[50]\ttraining's binary_logloss: 0.321939\tvalid_1's binary_logloss: 0.414835\n",
      "[60]\ttraining's binary_logloss: 0.300053\tvalid_1's binary_logloss: 0.408474\n",
      "[70]\ttraining's binary_logloss: 0.281982\tvalid_1's binary_logloss: 0.404967\n"
     ]
    },
    {
     "name": "stderr",
     "output_type": "stream",
     "text": [
      "\u001b[32m[I 2020-01-17 15:24:51,943]\u001b[0m Finished trial#36 resulted in value: 0.4049668082148141. Current best value is 0.4049668082148141 with parameters: {'max_bin': 427, 'num_leaves': 79}.\u001b[0m\n"
     ]
    },
    {
     "name": "stdout",
     "output_type": "stream",
     "text": [
      "[80]\ttraining's binary_logloss: 0.266462\tvalid_1's binary_logloss: 0.411209\n",
      "Early stopping, best iteration is:\n",
      "[70]\ttraining's binary_logloss: 0.281982\tvalid_1's binary_logloss: 0.404967\n",
      "Training until validation scores don't improve for 10 rounds\n",
      "[10]\ttraining's binary_logloss: 0.498259\tvalid_1's binary_logloss: 0.51762\n",
      "[20]\ttraining's binary_logloss: 0.420804\tvalid_1's binary_logloss: 0.453194\n",
      "[30]\ttraining's binary_logloss: 0.375385\tvalid_1's binary_logloss: 0.426672\n",
      "[40]\ttraining's binary_logloss: 0.34508\tvalid_1's binary_logloss: 0.416432\n",
      "[50]\ttraining's binary_logloss: 0.321939\tvalid_1's binary_logloss: 0.414835\n",
      "[60]\ttraining's binary_logloss: 0.300053\tvalid_1's binary_logloss: 0.408474\n",
      "[70]\ttraining's binary_logloss: 0.281982\tvalid_1's binary_logloss: 0.404967\n",
      "[80]\ttraining's binary_logloss: 0.266462\tvalid_1's binary_logloss: 0.411209\n",
      "Early stopping, best iteration is:\n",
      "[70]\ttraining's binary_logloss: 0.281982\tvalid_1's binary_logloss: 0.404967\n"
     ]
    },
    {
     "name": "stderr",
     "output_type": "stream",
     "text": [
      "\u001b[32m[I 2020-01-17 15:24:52,143]\u001b[0m Finished trial#37 resulted in value: 0.4049668082148141. Current best value is 0.4049668082148141 with parameters: {'max_bin': 427, 'num_leaves': 79}.\u001b[0m\n",
      "\u001b[32m[I 2020-01-17 15:24:52,341]\u001b[0m Finished trial#38 resulted in value: 0.4049668082148141. Current best value is 0.4049668082148141 with parameters: {'max_bin': 427, 'num_leaves': 79}.\u001b[0m\n"
     ]
    },
    {
     "name": "stdout",
     "output_type": "stream",
     "text": [
      "Training until validation scores don't improve for 10 rounds\n",
      "[10]\ttraining's binary_logloss: 0.498259\tvalid_1's binary_logloss: 0.51762\n",
      "[20]\ttraining's binary_logloss: 0.420804\tvalid_1's binary_logloss: 0.453194\n",
      "[30]\ttraining's binary_logloss: 0.375385\tvalid_1's binary_logloss: 0.426672\n",
      "[40]\ttraining's binary_logloss: 0.34508\tvalid_1's binary_logloss: 0.416432\n",
      "[50]\ttraining's binary_logloss: 0.321939\tvalid_1's binary_logloss: 0.414835\n",
      "[60]\ttraining's binary_logloss: 0.300053\tvalid_1's binary_logloss: 0.408474\n",
      "[70]\ttraining's binary_logloss: 0.281982\tvalid_1's binary_logloss: 0.404967\n",
      "[80]\ttraining's binary_logloss: 0.266462\tvalid_1's binary_logloss: 0.411209\n",
      "Early stopping, best iteration is:\n",
      "[70]\ttraining's binary_logloss: 0.281982\tvalid_1's binary_logloss: 0.404967\n",
      "Training until validation scores don't improve for 10 rounds\n"
     ]
    },
    {
     "name": "stderr",
     "output_type": "stream",
     "text": [
      "\u001b[32m[I 2020-01-17 15:24:52,545]\u001b[0m Finished trial#39 resulted in value: 0.4049668082148141. Current best value is 0.4049668082148141 with parameters: {'max_bin': 427, 'num_leaves': 79}.\u001b[0m\n"
     ]
    },
    {
     "name": "stdout",
     "output_type": "stream",
     "text": [
      "[10]\ttraining's binary_logloss: 0.498259\tvalid_1's binary_logloss: 0.51762\n",
      "[20]\ttraining's binary_logloss: 0.420804\tvalid_1's binary_logloss: 0.453194\n",
      "[30]\ttraining's binary_logloss: 0.375385\tvalid_1's binary_logloss: 0.426672\n",
      "[40]\ttraining's binary_logloss: 0.34508\tvalid_1's binary_logloss: 0.416432\n",
      "[50]\ttraining's binary_logloss: 0.321939\tvalid_1's binary_logloss: 0.414835\n",
      "[60]\ttraining's binary_logloss: 0.300053\tvalid_1's binary_logloss: 0.408474\n",
      "[70]\ttraining's binary_logloss: 0.281982\tvalid_1's binary_logloss: 0.404967\n",
      "[80]\ttraining's binary_logloss: 0.266462\tvalid_1's binary_logloss: 0.411209\n",
      "Early stopping, best iteration is:\n",
      "[70]\ttraining's binary_logloss: 0.281982\tvalid_1's binary_logloss: 0.404967\n"
     ]
    },
    {
     "data": {
      "text/plain": [
       "{'max_bin': 427, 'num_leaves': 79}"
      ]
     },
     "execution_count": 145,
     "metadata": {},
     "output_type": "execute_result"
    }
   ],
   "source": [
    "def objective(trial):\n",
    "    \n",
    "    X_train, X_valid, y_train, y_valid = train_test_split(X_train_df,y_train_df, \\\n",
    "                                                    test_size=0.3, random_state=0, stratify=y_train_df)\n",
    "    \n",
    "    params = {\n",
    "        # Fixed\n",
    "        'objective': 'binary',\n",
    "        'learning_rate': 0.05,\n",
    "        \n",
    "        # Variable\n",
    "        'max_bin': trial.suggest_int('max_bin', 255, 500),\n",
    "        'num_leaves': trial.suggest_int('num_leaves', 32, 128),\n",
    "    }\n",
    "\n",
    "    lgb_train = lgb.Dataset(X_train, y_train)\n",
    "    lgb_eval = lgb.Dataset(X_valid, y_valid, reference=lgb_train)\n",
    "\n",
    "    model = lgb.train(params, lgb_train,\n",
    "                    valid_sets=[lgb_train, lgb_eval],\n",
    "                    verbose_eval=10,\n",
    "                    num_boost_round=1000,\n",
    "                    early_stopping_rounds=10)\n",
    "\n",
    "    y_pred_valid = model.predict(X_valid,num_iteration=model.best_iteration)\n",
    "    score = log_loss(y_valid,y_pred_valid)\n",
    "\n",
    "    return score\n",
    "\n",
    "# Optunaによる最適化\n",
    "study = optuna.create_study(sampler=optuna.samplers.RandomSampler(seed=0))\n",
    "study.optimize(objective, n_trials=40)\n",
    "study.best_params\n"
   ]
  },
  {
   "cell_type": "code",
   "execution_count": 155,
   "metadata": {},
   "outputs": [
    {
     "name": "stdout",
     "output_type": "stream",
     "text": [
      "Training until validation scores don't improve for 10 rounds\n",
      "[10]\ttraining's binary_logloss: 0.498259\tvalid_1's binary_logloss: 0.51762\n",
      "[20]\ttraining's binary_logloss: 0.420804\tvalid_1's binary_logloss: 0.453194\n",
      "[30]\ttraining's binary_logloss: 0.375385\tvalid_1's binary_logloss: 0.426672\n",
      "[40]\ttraining's binary_logloss: 0.34508\tvalid_1's binary_logloss: 0.416432\n",
      "[50]\ttraining's binary_logloss: 0.321939\tvalid_1's binary_logloss: 0.414835\n",
      "[60]\ttraining's binary_logloss: 0.300053\tvalid_1's binary_logloss: 0.408474\n",
      "[70]\ttraining's binary_logloss: 0.281982\tvalid_1's binary_logloss: 0.404967\n",
      "[80]\ttraining's binary_logloss: 0.266462\tvalid_1's binary_logloss: 0.411209\n",
      "Early stopping, best iteration is:\n",
      "[70]\ttraining's binary_logloss: 0.281982\tvalid_1's binary_logloss: 0.404967\n",
      "--------------------------------------------------------------------------------\n",
      "                  0.0         1.0  accuracy   macro avg  weighted avg\n",
      "precision    0.833333    0.878049  0.847015    0.855691      0.850519\n",
      "recall       0.939394    0.699029  0.847015    0.819212      0.847015\n",
      "f1-score     0.883191    0.778378  0.847015    0.830785      0.842908\n",
      "support    165.000000  103.000000  0.847015  268.000000    268.000000\n",
      "--------------------------------------------------------------------------------\n"
     ]
    },
    {
     "data": {
      "image/png": "[encoded data removed]",
      "text/plain": [
       "<Figure size 432x288 with 1 Axes>"
      ]
     },
     "metadata": {
      "needs_background": "light"
     },
     "output_type": "display_data"
    }
   ],
   "source": [
    "X_train, X_valid, y_train, y_valid = train_test_split(X_train_df,y_train_df, \\\n",
    "                                                    test_size=0.3, random_state=0, stratify=y_train_df)\n",
    "\n",
    "\n",
    "\n",
    "lgb_train = lgb.Dataset(data = X_train, label = y_train)\n",
    "lgb_eval = lgb.Dataset(data = X_valid, label = y_valid, reference=lgb_train)\n",
    "\n",
    "params = {\n",
    "    'objective': 'binary',\n",
    "    'max_bin':427,\n",
    "    'learning_rate':0.05,\n",
    "    'num_leaves':79\n",
    "}\n",
    "\n",
    "evaluation_results = {}\n",
    "model = lgb.train(params, lgb_train,\n",
    "                  valid_sets=[lgb_train, lgb_eval],\n",
    "                  verbose_eval=10,\n",
    "                  num_boost_round=1000,\n",
    "                  early_stopping_rounds=10,\n",
    "                 evals_result=evaluation_results)\n",
    "#model.save_model('/content/drive/My Drive/Titanic/model.txt')\n",
    "\n",
    "y_pred = model.predict(X_valid, num_iteration=model.best_iteration)\n",
    "y_pred = (y_pred > 0.5).astype(int)\n",
    "y_pred_df  = pd.DataFrame(classification_report(y_valid, y_pred, output_dict = True))\n",
    "print('-'*80)\n",
    "print(y_pred_df)\n",
    "print('-'*80)\n",
    "lgb.plot_importance(model)\n",
    "plt.show()"
   ]
  },
  {
   "cell_type": "markdown",
   "metadata": {},
   "source": [
    "### スコア提出"
   ]
  },
  {
   "cell_type": "code",
   "execution_count": 172,
   "metadata": {},
   "outputs": [],
   "source": [
    "y_pred_real = model.predict(X_test_df, num_iteration=model.best_iteration)\n",
    "y_pred_real = (y_pred_real > 0.5).astype(int)\n",
    "\n",
    "submission = pd.DataFrame(pd.read_csv('./data/raw/test.csv')['PassengerId'])\n",
    "submission['Survived'] = y_pred_real\n",
    "submission.to_csv('./data/submmit/titanic_fin_20200117.csv', index=False)\n"
   ]
  },
  {
   "cell_type": "code",
   "execution_count": null,
   "metadata": {},
   "outputs": [],
   "source": []
  }
 ],
 "metadata": {
  "kernelspec": {
   "display_name": "Python 3",
   "language": "python",
   "name": "python3"
  },
  "language_info": {
   "codemirror_mode": {
    "name": "ipython",
    "version": 3
   },
   "file_extension": ".py",
   "mimetype": "text/x-python",
   "name": "python",
   "nbconvert_exporter": "python",
   "pygments_lexer": "ipython3",
   "version": "3.7.5"
  }
 },
 "nbformat": 4,
 "nbformat_minor": 2
}
