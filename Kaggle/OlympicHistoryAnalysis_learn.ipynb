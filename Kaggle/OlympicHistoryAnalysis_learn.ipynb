{
 "cells": [
  {
   "cell_type": "code",
   "execution_count": 47,
   "metadata": {},
   "outputs": [],
   "source": [
    "## import module\n",
    "\n",
    "import numpy as np\n",
    "import pandas as pd\n",
    "import matplotlib\n",
    "import matplotlib.pyplot as plt\n",
    "import seaborn as sns\n",
    "import matplotlib.gridspec as gridspec\n",
    "import matplotlib.patches as mpatches\n",
    "import matplotlib.cm as cm\n",
    "import matplotlib.lines as mlines\n",
    "import matplotlib.ticker as ticker\n",
    "# Matplotlib for Japanese and Jupyter notebook inline \n",
    "font = {\"family\":\"Noto Sans CJK JP\"}\n",
    "matplotlib.rc('font', **font)\n",
    "%matplotlib inline\n",
    "\n",
    "import os\n",
    "import re"
   ]
  },
  {
   "cell_type": "code",
   "execution_count": 53,
   "metadata": {},
   "outputs": [],
   "source": [
    "data = pd.read_csv('./data/raw/athlete_events.csv')\n",
    "noc_data = pd.read_csv('./data/raw/noc_regions.csv')"
   ]
  },
  {
   "cell_type": "code",
   "execution_count": 49,
   "metadata": {},
   "outputs": [],
   "source": [
    "gender_map = {'M':0,'F':1}"
   ]
  },
  {
   "cell_type": "code",
   "execution_count": 50,
   "metadata": {},
   "outputs": [],
   "source": [
    "data['IsFEmale']=data['Sex'].map(gender_map)"
   ]
  },
  {
   "cell_type": "code",
   "execution_count": 51,
   "metadata": {},
   "outputs": [
    {
     "name": "stdout",
     "output_type": "stream",
     "text": [
      "Data Sample\n"
     ]
    },
    {
     "data": {
      "text/html": [
       "<div>\n",
       "<style scoped>\n",
       "    .dataframe tbody tr th:only-of-type {\n",
       "        vertical-align: middle;\n",
       "    }\n",
       "\n",
       "    .dataframe tbody tr th {\n",
       "        vertical-align: top;\n",
       "    }\n",
       "\n",
       "    .dataframe thead th {\n",
       "        text-align: right;\n",
       "    }\n",
       "</style>\n",
       "<table border=\"1\" class=\"dataframe\">\n",
       "  <thead>\n",
       "    <tr style=\"text-align: right;\">\n",
       "      <th></th>\n",
       "      <th>ID</th>\n",
       "      <th>Name</th>\n",
       "      <th>Sex</th>\n",
       "      <th>Age</th>\n",
       "      <th>Height</th>\n",
       "      <th>Weight</th>\n",
       "      <th>Team</th>\n",
       "      <th>NOC</th>\n",
       "      <th>Year</th>\n",
       "      <th>Season</th>\n",
       "      <th>City</th>\n",
       "      <th>Sport</th>\n",
       "      <th>Event</th>\n",
       "      <th>IsFEmale</th>\n",
       "      <th>Medal_Bronze</th>\n",
       "      <th>Medal_Gold</th>\n",
       "      <th>Medal_None</th>\n",
       "      <th>Medal_Silver</th>\n",
       "    </tr>\n",
       "  </thead>\n",
       "  <tbody>\n",
       "    <tr>\n",
       "      <th>0</th>\n",
       "      <td>1</td>\n",
       "      <td>A Dijiang</td>\n",
       "      <td>M</td>\n",
       "      <td>24.0</td>\n",
       "      <td>180.0</td>\n",
       "      <td>80.0</td>\n",
       "      <td>China</td>\n",
       "      <td>CHN</td>\n",
       "      <td>1992</td>\n",
       "      <td>Summer</td>\n",
       "      <td>Barcelona</td>\n",
       "      <td>Basketball</td>\n",
       "      <td>Men's Basketball</td>\n",
       "      <td>0</td>\n",
       "      <td>0</td>\n",
       "      <td>0</td>\n",
       "      <td>1</td>\n",
       "      <td>0</td>\n",
       "    </tr>\n",
       "    <tr>\n",
       "      <th>1</th>\n",
       "      <td>2</td>\n",
       "      <td>A Lamusi</td>\n",
       "      <td>M</td>\n",
       "      <td>23.0</td>\n",
       "      <td>170.0</td>\n",
       "      <td>60.0</td>\n",
       "      <td>China</td>\n",
       "      <td>CHN</td>\n",
       "      <td>2012</td>\n",
       "      <td>Summer</td>\n",
       "      <td>London</td>\n",
       "      <td>Judo</td>\n",
       "      <td>Men's Extra-Lightweight</td>\n",
       "      <td>0</td>\n",
       "      <td>0</td>\n",
       "      <td>0</td>\n",
       "      <td>1</td>\n",
       "      <td>0</td>\n",
       "    </tr>\n",
       "    <tr>\n",
       "      <th>2</th>\n",
       "      <td>3</td>\n",
       "      <td>Gunnar Nielsen Aaby</td>\n",
       "      <td>M</td>\n",
       "      <td>24.0</td>\n",
       "      <td>NaN</td>\n",
       "      <td>NaN</td>\n",
       "      <td>Denmark</td>\n",
       "      <td>DEN</td>\n",
       "      <td>1920</td>\n",
       "      <td>Summer</td>\n",
       "      <td>Antwerpen</td>\n",
       "      <td>Football</td>\n",
       "      <td>Men's Football</td>\n",
       "      <td>0</td>\n",
       "      <td>0</td>\n",
       "      <td>0</td>\n",
       "      <td>1</td>\n",
       "      <td>0</td>\n",
       "    </tr>\n",
       "    <tr>\n",
       "      <th>3</th>\n",
       "      <td>4</td>\n",
       "      <td>Edgar Lindenau Aabye</td>\n",
       "      <td>M</td>\n",
       "      <td>34.0</td>\n",
       "      <td>NaN</td>\n",
       "      <td>NaN</td>\n",
       "      <td>Denmark/Sweden</td>\n",
       "      <td>DEN</td>\n",
       "      <td>1900</td>\n",
       "      <td>Summer</td>\n",
       "      <td>Paris</td>\n",
       "      <td>Tug-Of-War</td>\n",
       "      <td>Men's Tug-Of-War</td>\n",
       "      <td>0</td>\n",
       "      <td>0</td>\n",
       "      <td>1</td>\n",
       "      <td>0</td>\n",
       "      <td>0</td>\n",
       "    </tr>\n",
       "    <tr>\n",
       "      <th>4</th>\n",
       "      <td>5</td>\n",
       "      <td>Christine Jacoba Aaftink</td>\n",
       "      <td>F</td>\n",
       "      <td>21.0</td>\n",
       "      <td>185.0</td>\n",
       "      <td>82.0</td>\n",
       "      <td>Netherlands</td>\n",
       "      <td>NED</td>\n",
       "      <td>1988</td>\n",
       "      <td>Winter</td>\n",
       "      <td>Calgary</td>\n",
       "      <td>Speed Skating</td>\n",
       "      <td>Women's 500 metres</td>\n",
       "      <td>1</td>\n",
       "      <td>0</td>\n",
       "      <td>0</td>\n",
       "      <td>1</td>\n",
       "      <td>0</td>\n",
       "    </tr>\n",
       "  </tbody>\n",
       "</table>\n",
       "</div>"
      ],
      "text/plain": [
       "   ID                      Name Sex   Age  Height  Weight            Team  \\\n",
       "0   1                 A Dijiang   M  24.0   180.0    80.0           China   \n",
       "1   2                  A Lamusi   M  23.0   170.0    60.0           China   \n",
       "2   3       Gunnar Nielsen Aaby   M  24.0     NaN     NaN         Denmark   \n",
       "3   4      Edgar Lindenau Aabye   M  34.0     NaN     NaN  Denmark/Sweden   \n",
       "4   5  Christine Jacoba Aaftink   F  21.0   185.0    82.0     Netherlands   \n",
       "\n",
       "   NOC  Year  Season       City          Sport                    Event  \\\n",
       "0  CHN  1992  Summer  Barcelona     Basketball         Men's Basketball   \n",
       "1  CHN  2012  Summer     London           Judo  Men's Extra-Lightweight   \n",
       "2  DEN  1920  Summer  Antwerpen       Football           Men's Football   \n",
       "3  DEN  1900  Summer      Paris     Tug-Of-War         Men's Tug-Of-War   \n",
       "4  NED  1988  Winter    Calgary  Speed Skating       Women's 500 metres   \n",
       "\n",
       "   IsFEmale  Medal_Bronze  Medal_Gold  Medal_None  Medal_Silver  \n",
       "0         0             0           0           1             0  \n",
       "1         0             0           0           1             0  \n",
       "2         0             0           0           1             0  \n",
       "3         0             0           1           0             0  \n",
       "4         1             0           0           1             0  "
      ]
     },
     "execution_count": 51,
     "metadata": {},
     "output_type": "execute_result"
    }
   ],
   "source": [
    "\n",
    "\n",
    "\n",
    "def extract_year(val):\n",
    "    year=val[:val.index(' ')]\n",
    "    year=int(year)\n",
    "    return year\n",
    "\n",
    "def extract_season(val):\n",
    "    season=val[val.index(' ')+1:]\n",
    "    return season\n",
    "\n",
    "data['Year']=data['Games'].apply(extract_year)\n",
    "data['Season']=data['Games'].apply(extract_season)\n",
    "data.drop('Games',axis=1,inplace=True)\n",
    "\n",
    "data['Medal']=data['Medal'].fillna('None')\n",
    "medal_dummies=pd.get_dummies(data['Medal'],prefix='Medal')\n",
    "data=pd.concat([data,medal_dummies],axis=1)\n",
    "data=data.drop('Medal',axis=1)\n",
    "\n",
    "#for col in ['Age','Height','Weight']:\n",
    "#    data[col]=data[col].fillna('NA')\n",
    "\n",
    "event_data=[]\n",
    "for ind,row in data.iterrows():\n",
    "    event_data.append(re.sub(row['Sport'],'',row['Event'],count=1)[1:])\n",
    "data['Event']=pd.Series(event_data,index=data.index)\n",
    "\n",
    "print(\"Data Sample\")\n",
    "data.head()"
   ]
  },
  {
   "cell_type": "code",
   "execution_count": 66,
   "metadata": {},
   "outputs": [],
   "source": [
    "def extract_male_female_count(data):\n",
    "    gender_data=list(data.groupby(['ID','IsFEmale'])['Name'].aggregate('count').reset_index()['IsFEmale'].values)\n",
    "    males=gender_data.count(0)\n",
    "    females=gender_data.count(1)\n",
    "    return males,females"
   ]
  },
  {
   "cell_type": "code",
   "execution_count": 69,
   "metadata": {},
   "outputs": [],
   "source": [
    "# 夏季、冬季のそれぞれの男女人数を算出している\n",
    "males,females=extract_male_female_count(data)\n",
    "summer_data=data[data['Season']=='Summer']\n",
    "winter_data=data[data['Season']=='Winter']\n",
    "summer_males,summer_females=extract_male_female_count(summer_data)\n",
    "winter_males,winter_females=extract_male_female_count(winter_data)"
   ]
  },
  {
   "cell_type": "code",
   "execution_count": 70,
   "metadata": {},
   "outputs": [],
   "source": [
    "# 年のリストを作成している\n",
    "season_year_data=data.groupby(['Year','Season'])['ID'].aggregate('count').reset_index()\n",
    "\n",
    "summer_years=season_year_data[season_year_data['Season']=='Summer'][['Year','ID']]\n",
    "winter_years=season_year_data[season_year_data['Season']=='Winter'][['Year','ID']]\n",
    "\n",
    "min_year=min(season_year_data['Year'])\n",
    "max_year=max(season_year_data['Year'])\n",
    "# yearsは、開始年から直近年（２０１６）までの１年区切りのリスト（array）\n",
    "years=np.arange(min_year,max_year+1)\n",
    "#years から　10刻みの区間を区切る\n",
    "some_years=[x for x in enumerate(years) if x[1]%10==0]"
   ]
  },
  {
   "cell_type": "code",
   "execution_count": 76,
   "metadata": {},
   "outputs": [],
   "source": [
    "summer_women_repr=[]\n",
    "summer_years=[]\n",
    "winter_women_repr=[]\n",
    "winter_years=[]\n",
    "for ind,yr in enumerate(years):\n",
    "    summer_year_data=summer_data[summer_data['Year']==yr]\n",
    "    if(summer_year_data.shape[0]!=0):\n",
    "        summer_yearly_gender_males,summer_yearly_gender_females=extract_male_female_count(summer_year_data)\n",
    "        summer_women_repr.append(summer_yearly_gender_females/summer_yearly_gender_males)\n",
    "        summer_years.append(yr)\n",
    "    winter_year_data=winter_data[winter_data['Year']==yr]\n",
    "    if(winter_year_data.shape[0]!=0):\n",
    "        winter_yearly_gender_males,winter_yearly_gender_females=extract_male_female_count(winter_year_data)\n",
    "        winter_women_repr.append(winter_yearly_gender_females/winter_yearly_gender_males)\n",
    "        winter_years.append(yr)\n"
   ]
  },
  {
   "cell_type": "code",
   "execution_count": 93,
   "metadata": {},
   "outputs": [
    {
     "data": {
      "image/png": "[encoded data removed]",
      "text/plain": [
       "<Figure size 864x288 with 3 Axes>"
      ]
     },
     "metadata": {
      "needs_background": "light"
     },
     "output_type": "display_data"
    }
   ],
   "source": [
    "fig=plt.figure(figsize=(12,4),constrained_layout=True)\n",
    "gs=fig.add_gridspec(2,2)\n",
    "ax=[0,0,0]\n",
    "ax[0]=fig.add_subplot(gs[0,0])\n",
    "ax[1]=fig.add_subplot(gs[0,1])\n",
    "ax[2]=fig.add_subplot(gs[1,:])\n",
    "\n",
    "circle=plt.Circle((0,0),radius=0.5,color='white')\n",
    "ax[0].pie([males,females],startangle=90,colors=['red','darkblue'],counterclock=False)\n",
    "ax[0].set_title(\"Male vs. Female Representation\\nin Olympics\",fontsize=15)\n",
    "ax[0].legend(['Male','Female'],loc=(0.05,0.25),facecolor='w',edgecolor='black',framealpha=1,frameon=True,fontsize=13)\n",
    "ax[0].add_artist(circle)\n",
    "\n",
    "blue=['darkblue','dodgerblue']\n",
    "blue_labels=['Winter - Male','Winter - Female']\n",
    "red=['red','orange']\n",
    "red_labels=['Summer - Male','Summer - Female']\n",
    "blue_handles=[mpatches.Patch(color=blue[i],label=blue_labels[i]) for i in [0,1]]\n",
    "red_handles=[mpatches.Patch(color=red[i],label=red_labels[i]) for i in [0,1]]\n",
    "circle=plt.Circle((0,0),radius=0.4,color='white')\n",
    "ax[1].pie([summer_males,summer_females],radius=1,counterclock=False,colors=red,startangle=90)\n",
    "ax[1].pie([winter_males,winter_females],radius=0.68,counterclock=False,colors=blue,startangle=90)\n",
    "ax[1].set_title(\"Male vs. Female Representation\\nin Summer and Winter Games\",fontsize=15)\n",
    "legend1=ax[1].legend(handles=red_handles,loc=(0.7,0.7),facecolor='w',framealpha=1,edgecolor='black',frameon=True)\n",
    "legend2=ax[1].legend(handles=blue_handles,loc=(0,0.25),facecolor='w',framealpha=1,edgecolor='black',frameon=True)\n",
    "ax[1].add_artist(legend1)\n",
    "ax[1].add_artist(legend2)\n",
    "ax[1].add_artist(circle)\n",
    "\n",
    "sns.lineplot(summer_years,summer_women_repr,ax=ax[2],color='red')\n",
    "sns.lineplot(winter_years,winter_women_repr,ax=ax[2],color='blue')\n",
    "ax[2].set_title(\"Woman to Man Ratio over the Years\",fontsize=15)\n",
    "ax[2].set_ylabel(\"Woman to Man Ratio\")\n",
    "ax[2].legend(['Summer Games','Winter Games'],loc=(0.05,0.8))\n",
    "ax[2].spines['top'].set_visible(False)\n",
    "ax[2].spines['right'].set_visible(False)\n",
    "ax[2].tick_params(bottom=False,left=False)\n",
    "\n",
    "plt.show()\n"
   ]
  },
  {
   "cell_type": "code",
   "execution_count": 94,
   "metadata": {},
   "outputs": [
    {
     "data": {
      "text/plain": [
       "87925"
      ]
     },
     "execution_count": 94,
     "metadata": {},
     "output_type": "execute_result"
    }
   ],
   "source": [
    "summer_males"
   ]
  },
  {
   "cell_type": "code",
   "execution_count": 95,
   "metadata": {},
   "outputs": [
    {
     "data": {
      "text/plain": [
       "28851"
      ]
     },
     "execution_count": 95,
     "metadata": {},
     "output_type": "execute_result"
    }
   ],
   "source": [
    "summer_females"
   ]
  },
  {
   "cell_type": "code",
   "execution_count": null,
   "metadata": {},
   "outputs": [],
   "source": []
  }
 ],
 "metadata": {
  "kernelspec": {
   "display_name": "Python 3",
   "language": "python",
   "name": "python3"
  },
  "language_info": {
   "codemirror_mode": {
    "name": "ipython",
    "version": 3
   },
   "file_extension": ".py",
   "mimetype": "text/x-python",
   "name": "python",
   "nbconvert_exporter": "python",
   "pygments_lexer": "ipython3",
   "version": "3.7.5"
  }
 },
 "nbformat": 4,
 "nbformat_minor": 2
}
